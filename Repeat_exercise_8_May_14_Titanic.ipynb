{
 "cells": [
  {
   "cell_type": "code",
   "execution_count": 60,
   "metadata": {},
   "outputs": [],
   "source": [
    "import pandas as pd\n",
    "import numpy as np\n",
    "import seaborn as sns\n",
    "from matplotlib import pyplot as plt\n",
    "sns.set_palette('bright')\n",
    "%matplotlib inline"
   ]
  },
  {
   "cell_type": "code",
   "execution_count": 61,
   "metadata": {},
   "outputs": [],
   "source": [
    "df=pd.read_excel('titanic.xls')"
   ]
  },
  {
   "cell_type": "code",
   "execution_count": 62,
   "metadata": {},
   "outputs": [
    {
     "data": {
      "text/html": [
       "<div>\n",
       "<style scoped>\n",
       "    .dataframe tbody tr th:only-of-type {\n",
       "        vertical-align: middle;\n",
       "    }\n",
       "\n",
       "    .dataframe tbody tr th {\n",
       "        vertical-align: top;\n",
       "    }\n",
       "\n",
       "    .dataframe thead th {\n",
       "        text-align: right;\n",
       "    }\n",
       "</style>\n",
       "<table border=\"1\" class=\"dataframe\">\n",
       "  <thead>\n",
       "    <tr style=\"text-align: right;\">\n",
       "      <th></th>\n",
       "      <th>pclass</th>\n",
       "      <th>survived</th>\n",
       "      <th>name</th>\n",
       "      <th>sex</th>\n",
       "      <th>age</th>\n",
       "      <th>sibsp</th>\n",
       "      <th>parch</th>\n",
       "      <th>ticket</th>\n",
       "      <th>fare</th>\n",
       "      <th>cabin</th>\n",
       "      <th>embarked</th>\n",
       "      <th>boat</th>\n",
       "      <th>body</th>\n",
       "      <th>home.dest</th>\n",
       "    </tr>\n",
       "  </thead>\n",
       "  <tbody>\n",
       "    <tr>\n",
       "      <td>0</td>\n",
       "      <td>1</td>\n",
       "      <td>1</td>\n",
       "      <td>Allen, Miss. Elisabeth Walton</td>\n",
       "      <td>female</td>\n",
       "      <td>29.0000</td>\n",
       "      <td>0</td>\n",
       "      <td>0</td>\n",
       "      <td>24160</td>\n",
       "      <td>211.3375</td>\n",
       "      <td>B5</td>\n",
       "      <td>S</td>\n",
       "      <td>2</td>\n",
       "      <td>NaN</td>\n",
       "      <td>St Louis, MO</td>\n",
       "    </tr>\n",
       "    <tr>\n",
       "      <td>1</td>\n",
       "      <td>1</td>\n",
       "      <td>1</td>\n",
       "      <td>Allison, Master. Hudson Trevor</td>\n",
       "      <td>male</td>\n",
       "      <td>0.9167</td>\n",
       "      <td>1</td>\n",
       "      <td>2</td>\n",
       "      <td>113781</td>\n",
       "      <td>151.5500</td>\n",
       "      <td>C22 C26</td>\n",
       "      <td>S</td>\n",
       "      <td>11</td>\n",
       "      <td>NaN</td>\n",
       "      <td>Montreal, PQ / Chesterville, ON</td>\n",
       "    </tr>\n",
       "    <tr>\n",
       "      <td>2</td>\n",
       "      <td>1</td>\n",
       "      <td>0</td>\n",
       "      <td>Allison, Miss. Helen Loraine</td>\n",
       "      <td>female</td>\n",
       "      <td>2.0000</td>\n",
       "      <td>1</td>\n",
       "      <td>2</td>\n",
       "      <td>113781</td>\n",
       "      <td>151.5500</td>\n",
       "      <td>C22 C26</td>\n",
       "      <td>S</td>\n",
       "      <td>NaN</td>\n",
       "      <td>NaN</td>\n",
       "      <td>Montreal, PQ / Chesterville, ON</td>\n",
       "    </tr>\n",
       "    <tr>\n",
       "      <td>3</td>\n",
       "      <td>1</td>\n",
       "      <td>0</td>\n",
       "      <td>Allison, Mr. Hudson Joshua Creighton</td>\n",
       "      <td>male</td>\n",
       "      <td>30.0000</td>\n",
       "      <td>1</td>\n",
       "      <td>2</td>\n",
       "      <td>113781</td>\n",
       "      <td>151.5500</td>\n",
       "      <td>C22 C26</td>\n",
       "      <td>S</td>\n",
       "      <td>NaN</td>\n",
       "      <td>135.0</td>\n",
       "      <td>Montreal, PQ / Chesterville, ON</td>\n",
       "    </tr>\n",
       "    <tr>\n",
       "      <td>4</td>\n",
       "      <td>1</td>\n",
       "      <td>0</td>\n",
       "      <td>Allison, Mrs. Hudson J C (Bessie Waldo Daniels)</td>\n",
       "      <td>female</td>\n",
       "      <td>25.0000</td>\n",
       "      <td>1</td>\n",
       "      <td>2</td>\n",
       "      <td>113781</td>\n",
       "      <td>151.5500</td>\n",
       "      <td>C22 C26</td>\n",
       "      <td>S</td>\n",
       "      <td>NaN</td>\n",
       "      <td>NaN</td>\n",
       "      <td>Montreal, PQ / Chesterville, ON</td>\n",
       "    </tr>\n",
       "  </tbody>\n",
       "</table>\n",
       "</div>"
      ],
      "text/plain": [
       "   pclass  survived                                             name     sex  \\\n",
       "0       1         1                    Allen, Miss. Elisabeth Walton  female   \n",
       "1       1         1                   Allison, Master. Hudson Trevor    male   \n",
       "2       1         0                     Allison, Miss. Helen Loraine  female   \n",
       "3       1         0             Allison, Mr. Hudson Joshua Creighton    male   \n",
       "4       1         0  Allison, Mrs. Hudson J C (Bessie Waldo Daniels)  female   \n",
       "\n",
       "       age  sibsp  parch  ticket      fare    cabin embarked boat   body  \\\n",
       "0  29.0000      0      0   24160  211.3375       B5        S    2    NaN   \n",
       "1   0.9167      1      2  113781  151.5500  C22 C26        S   11    NaN   \n",
       "2   2.0000      1      2  113781  151.5500  C22 C26        S  NaN    NaN   \n",
       "3  30.0000      1      2  113781  151.5500  C22 C26        S  NaN  135.0   \n",
       "4  25.0000      1      2  113781  151.5500  C22 C26        S  NaN    NaN   \n",
       "\n",
       "                         home.dest  \n",
       "0                     St Louis, MO  \n",
       "1  Montreal, PQ / Chesterville, ON  \n",
       "2  Montreal, PQ / Chesterville, ON  \n",
       "3  Montreal, PQ / Chesterville, ON  \n",
       "4  Montreal, PQ / Chesterville, ON  "
      ]
     },
     "execution_count": 62,
     "metadata": {},
     "output_type": "execute_result"
    }
   ],
   "source": [
    "df.head()"
   ]
  },
  {
   "cell_type": "code",
   "execution_count": 63,
   "metadata": {},
   "outputs": [
    {
     "data": {
      "text/plain": [
       "pclass          0\n",
       "survived        0\n",
       "name            0\n",
       "sex             0\n",
       "age           263\n",
       "sibsp           0\n",
       "parch           0\n",
       "ticket          0\n",
       "fare            1\n",
       "cabin        1014\n",
       "embarked        2\n",
       "boat          823\n",
       "body         1188\n",
       "home.dest     564\n",
       "dtype: int64"
      ]
     },
     "execution_count": 63,
     "metadata": {},
     "output_type": "execute_result"
    }
   ],
   "source": [
    "df.isnull().sum()"
   ]
  },
  {
   "cell_type": "code",
   "execution_count": 11,
   "metadata": {},
   "outputs": [],
   "source": [
    "df['age'].fillna(df['age'].mean(),inplace=True)"
   ]
  },
  {
   "cell_type": "code",
   "execution_count": 12,
   "metadata": {},
   "outputs": [
    {
     "data": {
      "text/plain": [
       "pclass          0\n",
       "survived        0\n",
       "name            0\n",
       "sex             0\n",
       "age             0\n",
       "sibsp           0\n",
       "parch           0\n",
       "ticket          0\n",
       "fare            1\n",
       "cabin        1014\n",
       "embarked        2\n",
       "boat          823\n",
       "body         1188\n",
       "home.dest     564\n",
       "dtype: int64"
      ]
     },
     "execution_count": 12,
     "metadata": {},
     "output_type": "execute_result"
    }
   ],
   "source": [
    "df.isnull().sum()"
   ]
  },
  {
   "cell_type": "code",
   "execution_count": 13,
   "metadata": {},
   "outputs": [
    {
     "data": {
      "text/plain": [
       "S    914\n",
       "C    270\n",
       "Q    123\n",
       "Name: embarked, dtype: int64"
      ]
     },
     "execution_count": 13,
     "metadata": {},
     "output_type": "execute_result"
    }
   ],
   "source": [
    "df['embarked'].value_counts()"
   ]
  },
  {
   "cell_type": "code",
   "execution_count": 14,
   "metadata": {},
   "outputs": [],
   "source": [
    "df['embarked'].fillna('S',inplace=True)"
   ]
  },
  {
   "cell_type": "code",
   "execution_count": 15,
   "metadata": {},
   "outputs": [
    {
     "data": {
      "text/plain": [
       "0    809\n",
       "1    500\n",
       "Name: survived, dtype: int64"
      ]
     },
     "execution_count": 15,
     "metadata": {},
     "output_type": "execute_result"
    }
   ],
   "source": [
    "df['survived'].value_counts()"
   ]
  },
  {
   "cell_type": "code",
   "execution_count": 16,
   "metadata": {},
   "outputs": [
    {
     "data": {
      "text/plain": [
       "array([2, '11', nan, '3', '10', 'D', '4', '9', '6', 'B', '8', 'A', '5',\n",
       "       '7', 'C', '14', '2', '5 9', '13', '1', '15', '5 7', '8 10', '12',\n",
       "       '16', '13 15 B', 'C D', '15 16', '13 15'], dtype=object)"
      ]
     },
     "execution_count": 16,
     "metadata": {},
     "output_type": "execute_result"
    }
   ],
   "source": [
    "df['boat'].unique()\n",
    "    \n"
   ]
  },
  {
   "cell_type": "code",
   "execution_count": 17,
   "metadata": {},
   "outputs": [],
   "source": [
    "df['boat'].fillna('M',inplace=True)"
   ]
  },
  {
   "cell_type": "code",
   "execution_count": 18,
   "metadata": {},
   "outputs": [
    {
     "data": {
      "text/plain": [
       "array([211.3375, 151.55  ,  26.55  ,  77.9583,   0.    ,  51.4792,\n",
       "        49.5042, 227.525 ,  69.3   ,  78.85  ,  30.    ,  25.925 ,\n",
       "       247.5208,  76.2917,  75.2417,  52.5542, 221.7792,  26.    ,\n",
       "        91.0792, 135.6333,  35.5   ,  31.    , 164.8667, 262.375 ,\n",
       "        55.    ,  30.5   ,  50.4958,  39.6   ,  27.7208, 134.5   ,\n",
       "        26.2875,  27.4458, 512.3292,   5.    ,  47.1   , 120.    ,\n",
       "        61.175 ,  53.1   ,  86.5   ,  29.7   , 136.7792,  52.    ,\n",
       "        25.5875,  83.1583,  25.7   ,  71.    ,  71.2833,  57.    ,\n",
       "        81.8583, 106.425 ,  56.9292,  78.2667,  31.6792,  31.6833,\n",
       "       110.8833,  26.3875,  27.75  , 263.    , 133.65  ,  49.5   ,\n",
       "        79.2   ,  38.5   , 211.5   ,  59.4   ,  89.1042,  34.6542,\n",
       "        28.5   , 153.4625,  63.3583,  55.4417,  76.7292,  42.4   ,\n",
       "        83.475 ,  93.5   ,  42.5   ,  51.8625,  50.    ,  57.9792,\n",
       "        90.    ,  30.6958,  80.    ,  28.7125,  25.9292,  39.4   ,\n",
       "        45.5   , 146.5208,  82.1708,  57.75  , 113.275 ,  26.2833,\n",
       "       108.9   ,  25.7417,  61.9792,  66.6   ,  40.125 ,  55.9   ,\n",
       "        60.    ,  82.2667,  32.3208,  79.65  ,  28.5375,  33.5   ,\n",
       "        34.0208,  75.25  ,  77.2875,  61.3792,  35.    ,  24.    ,\n",
       "        13.    ,  11.5   ,  10.5   ,  12.525 ,  39.    ,  29.    ,\n",
       "        21.    ,  13.5   ,  26.25  ,  36.75  ,  73.5   ,  31.5   ,\n",
       "        23.    ,  32.5   ,  13.8583,  14.5   ,  33.    ,  65.    ,\n",
       "        16.    ,  12.275 ,  27.    ,  15.    ,  13.7917,  12.35  ,\n",
       "        10.7083,  41.5792,  12.    ,  12.875 ,  15.0458,  37.0042,\n",
       "        15.5792,  19.5   ,  14.    ,   9.6875,  30.0708,  13.8625,\n",
       "        15.05  ,  12.7375,  15.0333,  18.75  ,  12.65  ,  15.75  ,\n",
       "         7.55  ,  20.25  ,   7.65  ,   7.925 ,   7.2292,   7.25  ,\n",
       "         8.05  ,   9.475 ,   9.35  ,  18.7875,   7.8875,   7.05  ,\n",
       "         8.3   ,  22.525 ,   7.8542,  31.275 ,   7.775 ,   7.7958,\n",
       "         7.8958,  17.8   ,  31.3875,   7.225 ,  14.4583,  15.85  ,\n",
       "        19.2583,  14.4542,   7.8792,   4.0125,  56.4958,   7.75  ,\n",
       "        15.2458,  15.5   ,  16.1   ,   7.725 ,   7.0458,   7.2833,\n",
       "         7.8208,   6.75  ,   8.6625,   7.7333,   7.4958,   7.6292,\n",
       "        15.9   ,   8.1583,  10.5167,  10.1708,   6.95  ,  14.4   ,\n",
       "        24.15  ,  17.4   ,   9.5   ,  20.575 ,  12.475 ,  13.9   ,\n",
       "         6.975 ,  15.1   ,  34.375 ,   7.7417,  20.525 ,   7.85  ,\n",
       "        46.9   ,   8.3625,   9.8458,   8.85  ,  19.9667,  14.1083,\n",
       "         6.8583,   8.9625,  12.2875,   6.45  ,   7.0542,   8.1125,\n",
       "         6.4958,   8.6542,  11.1333,  23.45  ,   9.825 ,   7.125 ,\n",
       "         8.4333,   7.5208,  13.4167,   7.8292,   7.7375,  22.025 ,\n",
       "        12.1833,   9.5875,   9.4833,  25.4667,   6.4375,  15.55  ,\n",
       "         7.5792,   7.1417,  23.25  ,   7.7875,   8.0292,   8.4583,\n",
       "        15.7417,  11.2417,   7.8   ,   6.2375,   9.225 ,   3.1708,\n",
       "         8.4042,   7.3125,   9.2167,   8.6833,  21.075 ,  39.6875,\n",
       "         8.7125,  13.775 ,   7.    ,  22.3583,   8.1375,  29.125 ,\n",
       "         7.7208,  20.2125,   7.7292,   7.575 ,  69.55  ,   9.325 ,\n",
       "        21.6792,  16.7   ,   7.7792,  27.9   ,      nan,   9.8375,\n",
       "        10.4625,   8.5167,   9.8417,   9.    ,  18.    ,   7.875 ])"
      ]
     },
     "execution_count": 18,
     "metadata": {},
     "output_type": "execute_result"
    }
   ],
   "source": [
    "df['fare'].unique()"
   ]
  },
  {
   "cell_type": "code",
   "execution_count": 19,
   "metadata": {},
   "outputs": [
    {
     "data": {
      "text/plain": [
       "0.0"
      ]
     },
     "execution_count": 19,
     "metadata": {},
     "output_type": "execute_result"
    }
   ],
   "source": [
    "df['fare'].min()"
   ]
  },
  {
   "cell_type": "code",
   "execution_count": 20,
   "metadata": {},
   "outputs": [
    {
     "data": {
      "text/plain": [
       "512.3292"
      ]
     },
     "execution_count": 20,
     "metadata": {},
     "output_type": "execute_result"
    }
   ],
   "source": [
    "df['fare'].max()"
   ]
  },
  {
   "cell_type": "code",
   "execution_count": 21,
   "metadata": {},
   "outputs": [
    {
     "data": {
      "text/plain": [
       "33.29547928134572"
      ]
     },
     "execution_count": 21,
     "metadata": {},
     "output_type": "execute_result"
    }
   ],
   "source": [
    "df['fare'].mean()"
   ]
  },
  {
   "cell_type": "code",
   "execution_count": 22,
   "metadata": {},
   "outputs": [
    {
     "data": {
      "text/html": [
       "<div>\n",
       "<style scoped>\n",
       "    .dataframe tbody tr th:only-of-type {\n",
       "        vertical-align: middle;\n",
       "    }\n",
       "\n",
       "    .dataframe tbody tr th {\n",
       "        vertical-align: top;\n",
       "    }\n",
       "\n",
       "    .dataframe thead th {\n",
       "        text-align: right;\n",
       "    }\n",
       "</style>\n",
       "<table border=\"1\" class=\"dataframe\">\n",
       "  <thead>\n",
       "    <tr style=\"text-align: right;\">\n",
       "      <th></th>\n",
       "      <th>pclass</th>\n",
       "      <th>survived</th>\n",
       "      <th>age</th>\n",
       "      <th>sibsp</th>\n",
       "      <th>parch</th>\n",
       "      <th>fare</th>\n",
       "      <th>body</th>\n",
       "    </tr>\n",
       "  </thead>\n",
       "  <tbody>\n",
       "    <tr>\n",
       "      <td>count</td>\n",
       "      <td>1309.000000</td>\n",
       "      <td>1309.000000</td>\n",
       "      <td>1309.000000</td>\n",
       "      <td>1309.000000</td>\n",
       "      <td>1309.000000</td>\n",
       "      <td>1308.000000</td>\n",
       "      <td>121.000000</td>\n",
       "    </tr>\n",
       "    <tr>\n",
       "      <td>mean</td>\n",
       "      <td>2.294882</td>\n",
       "      <td>0.381971</td>\n",
       "      <td>29.881135</td>\n",
       "      <td>0.498854</td>\n",
       "      <td>0.385027</td>\n",
       "      <td>33.295479</td>\n",
       "      <td>160.809917</td>\n",
       "    </tr>\n",
       "    <tr>\n",
       "      <td>std</td>\n",
       "      <td>0.837836</td>\n",
       "      <td>0.486055</td>\n",
       "      <td>12.883199</td>\n",
       "      <td>1.041658</td>\n",
       "      <td>0.865560</td>\n",
       "      <td>51.758668</td>\n",
       "      <td>97.696922</td>\n",
       "    </tr>\n",
       "    <tr>\n",
       "      <td>min</td>\n",
       "      <td>1.000000</td>\n",
       "      <td>0.000000</td>\n",
       "      <td>0.166700</td>\n",
       "      <td>0.000000</td>\n",
       "      <td>0.000000</td>\n",
       "      <td>0.000000</td>\n",
       "      <td>1.000000</td>\n",
       "    </tr>\n",
       "    <tr>\n",
       "      <td>25%</td>\n",
       "      <td>2.000000</td>\n",
       "      <td>0.000000</td>\n",
       "      <td>22.000000</td>\n",
       "      <td>0.000000</td>\n",
       "      <td>0.000000</td>\n",
       "      <td>7.895800</td>\n",
       "      <td>72.000000</td>\n",
       "    </tr>\n",
       "    <tr>\n",
       "      <td>50%</td>\n",
       "      <td>3.000000</td>\n",
       "      <td>0.000000</td>\n",
       "      <td>29.881135</td>\n",
       "      <td>0.000000</td>\n",
       "      <td>0.000000</td>\n",
       "      <td>14.454200</td>\n",
       "      <td>155.000000</td>\n",
       "    </tr>\n",
       "    <tr>\n",
       "      <td>75%</td>\n",
       "      <td>3.000000</td>\n",
       "      <td>1.000000</td>\n",
       "      <td>35.000000</td>\n",
       "      <td>1.000000</td>\n",
       "      <td>0.000000</td>\n",
       "      <td>31.275000</td>\n",
       "      <td>256.000000</td>\n",
       "    </tr>\n",
       "    <tr>\n",
       "      <td>max</td>\n",
       "      <td>3.000000</td>\n",
       "      <td>1.000000</td>\n",
       "      <td>80.000000</td>\n",
       "      <td>8.000000</td>\n",
       "      <td>9.000000</td>\n",
       "      <td>512.329200</td>\n",
       "      <td>328.000000</td>\n",
       "    </tr>\n",
       "  </tbody>\n",
       "</table>\n",
       "</div>"
      ],
      "text/plain": [
       "            pclass     survived          age        sibsp        parch  \\\n",
       "count  1309.000000  1309.000000  1309.000000  1309.000000  1309.000000   \n",
       "mean      2.294882     0.381971    29.881135     0.498854     0.385027   \n",
       "std       0.837836     0.486055    12.883199     1.041658     0.865560   \n",
       "min       1.000000     0.000000     0.166700     0.000000     0.000000   \n",
       "25%       2.000000     0.000000    22.000000     0.000000     0.000000   \n",
       "50%       3.000000     0.000000    29.881135     0.000000     0.000000   \n",
       "75%       3.000000     1.000000    35.000000     1.000000     0.000000   \n",
       "max       3.000000     1.000000    80.000000     8.000000     9.000000   \n",
       "\n",
       "              fare        body  \n",
       "count  1308.000000  121.000000  \n",
       "mean     33.295479  160.809917  \n",
       "std      51.758668   97.696922  \n",
       "min       0.000000    1.000000  \n",
       "25%       7.895800   72.000000  \n",
       "50%      14.454200  155.000000  \n",
       "75%      31.275000  256.000000  \n",
       "max     512.329200  328.000000  "
      ]
     },
     "execution_count": 22,
     "metadata": {},
     "output_type": "execute_result"
    }
   ],
   "source": [
    "df.describe()"
   ]
  },
  {
   "cell_type": "code",
   "execution_count": 23,
   "metadata": {},
   "outputs": [],
   "source": [
    "df['fare'].fillna(0,inplace=True)"
   ]
  },
  {
   "cell_type": "code",
   "execution_count": 24,
   "metadata": {},
   "outputs": [
    {
     "data": {
      "text/plain": [
       "array(['B5', 'C22 C26', 'E12', 'D7', 'A36', 'C101', nan, 'C62 C64', 'B35',\n",
       "       'A23', 'B58 B60', 'D15', 'C6', 'D35', 'C148', 'C97', 'B49', 'C99',\n",
       "       'C52', 'T', 'A31', 'C7', 'C103', 'D22', 'E33', 'A21', 'B10', 'B4',\n",
       "       'E40', 'B38', 'E24', 'B51 B53 B55', 'B96 B98', 'C46', 'E31', 'E8',\n",
       "       'B61', 'B77', 'A9', 'C89', 'A14', 'E58', 'E49', 'E52', 'E45',\n",
       "       'B22', 'B26', 'C85', 'E17', 'B71', 'B20', 'A34', 'C86', 'A16',\n",
       "       'A20', 'A18', 'C54', 'C45', 'D20', 'A29', 'C95', 'E25', 'C111',\n",
       "       'C23 C25 C27', 'E36', 'D34', 'D40', 'B39', 'B41', 'B102', 'C123',\n",
       "       'E63', 'C130', 'B86', 'C92', 'A5', 'C51', 'B42', 'C91', 'C125',\n",
       "       'D10 D12', 'B82 B84', 'E50', 'D33', 'C83', 'B94', 'D49', 'D45',\n",
       "       'B69', 'B11', 'E46', 'C39', 'B18', 'D11', 'C93', 'B28', 'C49',\n",
       "       'B52 B54 B56', 'E60', 'C132', 'B37', 'D21', 'D19', 'C124', 'D17',\n",
       "       'B101', 'D28', 'D6', 'D9', 'B80', 'C106', 'B79', 'C47', 'D30',\n",
       "       'C90', 'E38', 'C78', 'C30', 'C118', 'D36', 'D48', 'D47', 'C105',\n",
       "       'B36', 'B30', 'D43', 'B24', 'C2', 'C65', 'B73', 'C104', 'C110',\n",
       "       'C50', 'B3', 'A24', 'A32', 'A11', 'A10', 'B57 B59 B63 B66', 'C28',\n",
       "       'E44', 'A26', 'A6', 'A7', 'C31', 'A19', 'B45', 'E34', 'B78', 'B50',\n",
       "       'C87', 'C116', 'C55 C57', 'D50', 'E68', 'E67', 'C126', 'C68',\n",
       "       'C70', 'C53', 'B19', 'D46', 'D37', 'D26', 'C32', 'C80', 'C82',\n",
       "       'C128', 'E39 E41', 'D', 'F4', 'D56', 'F33', 'E101', 'E77', 'F2',\n",
       "       'D38', 'F', 'F G63', 'F E57', 'F E46', 'F G73', 'E121', 'F E69',\n",
       "       'E10', 'G6', 'F38'], dtype=object)"
      ]
     },
     "execution_count": 24,
     "metadata": {},
     "output_type": "execute_result"
    }
   ],
   "source": [
    "df['cabin'].unique()"
   ]
  },
  {
   "cell_type": "code",
   "execution_count": 25,
   "metadata": {},
   "outputs": [],
   "source": [
    "df['cabin'].fillna('MISSING',inplace=True)"
   ]
  },
  {
   "cell_type": "code",
   "execution_count": 26,
   "metadata": {},
   "outputs": [
    {
     "data": {
      "text/plain": [
       "array(['B5', 'C22 C26', 'E12', 'D7', 'A36', 'C101', 'MISSING', 'C62 C64',\n",
       "       'B35', 'A23', 'B58 B60', 'D15', 'C6', 'D35', 'C148', 'C97', 'B49',\n",
       "       'C99', 'C52', 'T', 'A31', 'C7', 'C103', 'D22', 'E33', 'A21', 'B10',\n",
       "       'B4', 'E40', 'B38', 'E24', 'B51 B53 B55', 'B96 B98', 'C46', 'E31',\n",
       "       'E8', 'B61', 'B77', 'A9', 'C89', 'A14', 'E58', 'E49', 'E52', 'E45',\n",
       "       'B22', 'B26', 'C85', 'E17', 'B71', 'B20', 'A34', 'C86', 'A16',\n",
       "       'A20', 'A18', 'C54', 'C45', 'D20', 'A29', 'C95', 'E25', 'C111',\n",
       "       'C23 C25 C27', 'E36', 'D34', 'D40', 'B39', 'B41', 'B102', 'C123',\n",
       "       'E63', 'C130', 'B86', 'C92', 'A5', 'C51', 'B42', 'C91', 'C125',\n",
       "       'D10 D12', 'B82 B84', 'E50', 'D33', 'C83', 'B94', 'D49', 'D45',\n",
       "       'B69', 'B11', 'E46', 'C39', 'B18', 'D11', 'C93', 'B28', 'C49',\n",
       "       'B52 B54 B56', 'E60', 'C132', 'B37', 'D21', 'D19', 'C124', 'D17',\n",
       "       'B101', 'D28', 'D6', 'D9', 'B80', 'C106', 'B79', 'C47', 'D30',\n",
       "       'C90', 'E38', 'C78', 'C30', 'C118', 'D36', 'D48', 'D47', 'C105',\n",
       "       'B36', 'B30', 'D43', 'B24', 'C2', 'C65', 'B73', 'C104', 'C110',\n",
       "       'C50', 'B3', 'A24', 'A32', 'A11', 'A10', 'B57 B59 B63 B66', 'C28',\n",
       "       'E44', 'A26', 'A6', 'A7', 'C31', 'A19', 'B45', 'E34', 'B78', 'B50',\n",
       "       'C87', 'C116', 'C55 C57', 'D50', 'E68', 'E67', 'C126', 'C68',\n",
       "       'C70', 'C53', 'B19', 'D46', 'D37', 'D26', 'C32', 'C80', 'C82',\n",
       "       'C128', 'E39 E41', 'D', 'F4', 'D56', 'F33', 'E101', 'E77', 'F2',\n",
       "       'D38', 'F', 'F G63', 'F E57', 'F E46', 'F G73', 'E121', 'F E69',\n",
       "       'E10', 'G6', 'F38'], dtype=object)"
      ]
     },
     "execution_count": 26,
     "metadata": {},
     "output_type": "execute_result"
    }
   ],
   "source": [
    "df['cabin'].unique()"
   ]
  },
  {
   "cell_type": "code",
   "execution_count": 27,
   "metadata": {},
   "outputs": [
    {
     "data": {
      "text/plain": [
       "pclass          0\n",
       "survived        0\n",
       "name            0\n",
       "sex             0\n",
       "age             0\n",
       "sibsp           0\n",
       "parch           0\n",
       "ticket          0\n",
       "fare            0\n",
       "cabin           0\n",
       "embarked        0\n",
       "boat            0\n",
       "body         1188\n",
       "home.dest     564\n",
       "dtype: int64"
      ]
     },
     "execution_count": 27,
     "metadata": {},
     "output_type": "execute_result"
    }
   ],
   "source": [
    "df.isnull().sum()"
   ]
  },
  {
   "cell_type": "code",
   "execution_count": 28,
   "metadata": {},
   "outputs": [
    {
     "data": {
      "text/plain": [
       "259.0    1\n",
       "305.0    1\n",
       "51.0     1\n",
       "68.0     1\n",
       "47.0     1\n",
       "        ..\n",
       "97.0     1\n",
       "197.0    1\n",
       "130.0    1\n",
       "75.0     1\n",
       "135.0    1\n",
       "Name: body, Length: 121, dtype: int64"
      ]
     },
     "execution_count": 28,
     "metadata": {},
     "output_type": "execute_result"
    }
   ],
   "source": [
    "df['body'].value_counts()"
   ]
  },
  {
   "cell_type": "code",
   "execution_count": 29,
   "metadata": {},
   "outputs": [
    {
     "data": {
      "text/plain": [
       "array([ nan, 135.,  22., 124., 148., 208., 172., 269.,  62., 133., 275.,\n",
       "       147., 110., 307.,  38.,  80.,  45., 258., 126., 292., 175., 249.,\n",
       "       230., 122., 263., 234., 189., 166., 207., 232.,  16., 109.,  96.,\n",
       "        46., 245., 169., 174.,  97.,  18., 130.,  17., 295., 286., 236.,\n",
       "       322., 297., 155., 305.,  19.,  75.,  35., 256., 149., 283., 165.,\n",
       "       108., 121.,  52., 209., 271.,  43.,  15., 101., 287.,  81., 294.,\n",
       "       293., 190.,  72., 103.,  79., 259., 260., 142., 299., 171.,   9.,\n",
       "       197.,  51., 187.,  68.,  47.,  98., 188.,  69., 306., 120., 143.,\n",
       "       156., 285.,  37.,  58.,  70., 196., 153.,  61.,  53., 201., 309.,\n",
       "       181., 173.,  89.,   4., 206., 327., 119.,   7.,  32.,  67., 284.,\n",
       "       261., 176.,  50.,   1., 255., 298., 314.,  14., 131., 312., 328.,\n",
       "       304.])"
      ]
     },
     "execution_count": 29,
     "metadata": {},
     "output_type": "execute_result"
    }
   ],
   "source": [
    "df['body'].unique()"
   ]
  },
  {
   "cell_type": "code",
   "execution_count": 30,
   "metadata": {},
   "outputs": [
    {
     "data": {
      "text/plain": [
       "1.0"
      ]
     },
     "execution_count": 30,
     "metadata": {},
     "output_type": "execute_result"
    }
   ],
   "source": [
    "df['body'].min()"
   ]
  },
  {
   "cell_type": "code",
   "execution_count": 31,
   "metadata": {},
   "outputs": [
    {
     "data": {
      "text/plain": [
       "160.8099173553719"
      ]
     },
     "execution_count": 31,
     "metadata": {},
     "output_type": "execute_result"
    }
   ],
   "source": [
    "df['body'].mean()"
   ]
  },
  {
   "cell_type": "code",
   "execution_count": 32,
   "metadata": {},
   "outputs": [],
   "source": [
    "df['body'].fillna(df['body'].mean(),inplace=True)"
   ]
  },
  {
   "cell_type": "code",
   "execution_count": 33,
   "metadata": {},
   "outputs": [],
   "source": [
    "df['age'].fillna(df['age'].value_counts().mean(),inplace=True)"
   ]
  },
  {
   "cell_type": "code",
   "execution_count": 34,
   "metadata": {},
   "outputs": [
    {
     "data": {
      "text/plain": [
       "pclass         0\n",
       "survived       0\n",
       "name           0\n",
       "sex            0\n",
       "age            0\n",
       "sibsp          0\n",
       "parch          0\n",
       "ticket         0\n",
       "fare           0\n",
       "cabin          0\n",
       "embarked       0\n",
       "boat           0\n",
       "body           0\n",
       "home.dest    564\n",
       "dtype: int64"
      ]
     },
     "execution_count": 34,
     "metadata": {},
     "output_type": "execute_result"
    }
   ],
   "source": [
    "df.isnull().sum()"
   ]
  },
  {
   "cell_type": "code",
   "execution_count": 35,
   "metadata": {},
   "outputs": [
    {
     "data": {
      "text/plain": [
       "array(['St Louis, MO', 'Montreal, PQ / Chesterville, ON', 'New York, NY',\n",
       "       'Hudson, NY', 'Belfast, NI', 'Bayside, Queens, NY',\n",
       "       'Montevideo, Uruguay', 'Paris, France', nan, 'Hessle, Yorks',\n",
       "       'Montreal, PQ', 'Winnipeg, MN', 'San Francisco, CA',\n",
       "       'Dowagiac, MI', 'Stockholm, Sweden / Washington, DC',\n",
       "       'Trenton, NJ', 'Glen Ridge, NJ', 'Youngstown, OH',\n",
       "       'Birkdale, England Cleveland, Ohio', 'London / Winnipeg, MB',\n",
       "       'Cooperstown, NY', 'St Leonards-on-Sea, England Ohio',\n",
       "       'Los Angeles, CA', 'Pomeroy, WA', 'Omaha, NE', 'Philadelphia, PA',\n",
       "       'Denver, CO', 'Belmont, MA', 'Washington, DC',\n",
       "       'Austria-Hungary / Germantown, Philadelphia, PA',\n",
       "       'Germantown, Philadelphia, PA', 'Bryn Mawr, PA',\n",
       "       'Ascot, Berkshire / Rochester, NY', 'Little Onn Hall, Staffs',\n",
       "       'Amenia, ND', 'New York, NY / Ithaca, NY', 'London, England',\n",
       "       'Liverpool, England / Belfast', 'Stoughton, MA', 'Victoria, BC',\n",
       "       'Lakewood, NJ', 'Roachdale, IN', 'Milwaukee, WI', 'Lima, Peru',\n",
       "       'Calgary, AB', 'Deephaven, MN / Cedar Rapids, IA',\n",
       "       'London / Paris', 'Mt Airy, Philadelphia, PA', 'Brookline, MA',\n",
       "       'Brooklyn, NY', 'Winnipeg, MB', 'Westcliff-on-Sea, Essex',\n",
       "       'Zurich, Switzerland', 'Scituate, MA',\n",
       "       \"St Anne's-on-Sea, Lancashire\", 'Paris, France / New York, NY',\n",
       "       'Greenwich, CT', 'Kingston, Surrey', 'London / Middlesex',\n",
       "       'Brighton, MA', 'London / Birmingham', 'Chicago, IL',\n",
       "       'Indianapolis, IN', 'New York, NY /  Stamford CT',\n",
       "       'Paris, France New York, NY', 'Liverpool', 'Bennington, VT',\n",
       "       'London', 'Buffalo, NY', 'Southington / Noank, CT', 'Boston, MA',\n",
       "       'Portland, OR', 'Stockholm, Sweden', 'Springfield, MA',\n",
       "       'London / New York, NY', 'Brockton, MA', 'Belgium  Montreal, PQ',\n",
       "       'Vancouver, BC', 'Dorchester, MA', 'East Bridgewater, MA',\n",
       "       'Fond du Lac, WI', 'Green Bay, WI', 'Lexington, MA',\n",
       "       'Isle of Wight, England', 'Providence, RI', '?Havana, Cuba',\n",
       "       'Belfast', 'Surbiton Hill, Surrey', 'Isleworth, England',\n",
       "       'Madrid, Spain', 'Toronto, ON', 'Worcester, MA',\n",
       "       'Rotterdam, Netherlands', 'Paris /  New York, NY', 'Seattle, WA',\n",
       "       'London  Vancouver, BC', 'Haverford, PA / Cooperstown, NY',\n",
       "       'Manchester, England', 'New York, NY / Greenwich CT', 'Duluth, MN',\n",
       "       'Basel, Switzerland', 'New Britain, CT',\n",
       "       'St James, Long Island, NY', 'Huntington, WV', 'Streatham, Surrey',\n",
       "       'Minneapolis, MN', 'Tuxedo Park, NY',\n",
       "       'Wimbledon Park, London / Hayling Island, Hants', 'Newark, NJ',\n",
       "       'Haverford, PA', 'Gallipolis, Ohio / ? Paris / New York',\n",
       "       'Cincinatti, OH', 'Haddenfield, NJ', 'London /  East Orange, NJ',\n",
       "       'Albany, NY', 'Mexico City, Mexico', 'East Orange, NJ',\n",
       "       'England Salt Lake City, Utah', 'Brunswick, ME',\n",
       "       'New York, NY / Briarcliff Manor NY', 'Elkins Park, PA',\n",
       "       'Geneva, Switzerland / Radnor, PA', 'Halifax, NS',\n",
       "       'New York, NY / Washington, DC', 'Russia New York, NY',\n",
       "       'Bryn Mawr, PA, USA', 'Buenos Aires, Argentina / New Jersey, NJ',\n",
       "       'Cornwall, England Houghton, MI', 'Warwick, England',\n",
       "       'West Hoboken, NJ', 'Penzance, Cornwall / Akron, OH', 'Guernsey',\n",
       "       'Bristol, Avon / Jacksonville, FL',\n",
       "       'Plymouth, Dorset / Houghton, MI', 'Jacksonville, FL',\n",
       "       'Norwich / New York, NY', 'England',\n",
       "       'Guntur, India / Benton Harbour, MI', 'Rochester, NY',\n",
       "       'St Ives, Cornwall / Calumet, MI', 'Elmira, NY / Orange, NJ',\n",
       "       'Lake Arthur, Chavez County, NM', 'London / Montreal, PQ',\n",
       "       'Cape Town, South Africa / Seattle, WA',\n",
       "       'Skara, Sweden / Rockford, IL',\n",
       "       'Sittingbourne, England / San Diego, CA', 'Southsea, Hants',\n",
       "       'Bangkok, Thailand / Roseville, IL', 'Mamaroneck, NY', 'Bronx, NY',\n",
       "       'Cornwall / Spokane, WA', 'England / San Francisco, CA',\n",
       "       'Hartford, Huntingdonshire', 'Helsinki, Finland Ashtabula, Ohio',\n",
       "       'London / Fort Byron, NY',\n",
       "       'Bishopstoke, Hants / Fayette Valley, ID', 'Pennsylvania',\n",
       "       'Provo, UT', 'Upper Burma, India Pittsburgh, PA',\n",
       "       'St Ives, Cornwall / Hancock, MI', 'Lyndhurst, England',\n",
       "       'London / Staten Island, NY', 'Portugal / Sau Paulo, Brazil',\n",
       "       'Lucca, Italy / California', 'Guernsey / Elizabeth, NJ',\n",
       "       'New Forest, England', 'Southampton', 'Holley, NY',\n",
       "       'Greenport, NY', 'Barcelona, Spain / Havana, Cuba',\n",
       "       'England / Detroit, MI', 'Goteborg, Sweden / Rockford, IL',\n",
       "       'Oslo, Norway Bayonne, NJ', 'England / Philadelphia, PA',\n",
       "       'Cornwall / Houghton, MI', 'Janjgir, India / Pennsylvania',\n",
       "       'Liverpool / Montreal, PQ', 'Cornwall / Clear Creek, CO',\n",
       "       'Cornwall', 'Cornwall / Camden, NJ', 'West Kensington, London',\n",
       "       'Clevedon, England', 'Auburn, NY', 'Detroit, MI',\n",
       "       'Seattle, WA / Toledo, OH', 'Denmark Hill, Surrey / Chicago',\n",
       "       'Walthamstow, England', 'Ilford, Essex / Winnipeg, MB',\n",
       "       'Somerset / Bernardsville, NJ', 'India / Rapid City, SD',\n",
       "       'West Hampstead, London / Neepawa, MB',\n",
       "       'Kontiolahti, Finland / Detroit, MI', 'Cornwall / Akron, OH',\n",
       "       'Devonport, England', 'England / Sacramento, CA', 'Tokyo, Japan',\n",
       "       'Swindon, England', 'North Evington, England',\n",
       "       'St Ives, Cornwall / Houghton, MI', 'Moscow / Bronx, NY',\n",
       "       'India / Pittsburgh, PA', 'Harrisburg, PA', 'Glasgow / Bangor, ME',\n",
       "       'Sweden / Arlington, NJ', 'Paris / Haiti',\n",
       "       'Berne, Switzerland / Central City, IA', 'London / Chicago, IL',\n",
       "       'Weston-Super-Mare, Somerset', 'Southampton / New York, NY',\n",
       "       'Paris', 'Paris / Montreal, PQ', 'St Austall, Cornwall',\n",
       "       'Weston-Super-Mare / Moose Jaw, SK', 'Sydney, Australia',\n",
       "       'Sarnia, ON', 'England / Bennington, VT', 'Chelsea, London',\n",
       "       'Harrow-on-the-Hill, Middlesex', 'Copenhagen, Denmark',\n",
       "       'Guernsey / Montclair, NJ and/or Toledo, Ohio', 'Frankfort, KY',\n",
       "       'Halesworth, England', 'Cambridge, MA', 'Nice, France',\n",
       "       'Cornwall / Hancock, MI', 'Glasgow', 'Cologne, Germany',\n",
       "       'Folkstone, Kent / New York, NY', 'Middleburg Heights, OH',\n",
       "       'Pondersend, England / New Durham, NJ', 'Spain / Havana, Cuba',\n",
       "       'Hamilton, ON', 'St Andrews, Guernsey', 'Woodford County, KY',\n",
       "       'Gunnislake, England / Butte, MT', 'Ilfracombe, Devon',\n",
       "       'Worcester, England', 'Russia', 'Denmark / New York, NY',\n",
       "       'Milford, NH', 'Plymouth, Devon / Detroit, MI', 'Brighton, Sussex',\n",
       "       'Elizabeth, NJ', 'Spain',\n",
       "       'London, England / Marietta, Ohio and Milwaukee, WI',\n",
       "       'Guernsey / Wilmington, DE', 'Hornsey, England', 'Deer Lodge, MT',\n",
       "       'Finland / Minneapolis, MN', 'Finland / Washington, DC',\n",
       "       'Sault St Marie, ON', 'Catford, Kent / Detroit, MI',\n",
       "       'Columbus, OH', 'Bath, England / Massachusetts',\n",
       "       'Plymouth, England', 'Barre, Co Washington, VT',\n",
       "       'Bristol, England / New Britain, CT', 'Aberdeen / Portland, OR',\n",
       "       'England / Hartford, CT', 'Bromsgrove, England / Montreal, PQ',\n",
       "       'Bournmouth, England', 'Guernsey, England / Edgewood, RI',\n",
       "       'Harrow, England', 'Yoevil, England / Cottage Grove, OR',\n",
       "       'East Providence, RI', 'Norway Los Angeles, CA',\n",
       "       'Perkins County, SD', 'Taalintehdas, Finland Hoboken, NJ',\n",
       "       'Greensburg, PA', 'Asarum, Sweden Brooklyn, NY',\n",
       "       'Bournemouth, England', 'Sweden Akeley, MN',\n",
       "       'London, England Norfolk, VA', 'Syria Fredericksburg, VA',\n",
       "       'England Albion, NY', 'Salo, Finland Astoria, OR', 'Argentina',\n",
       "       'Lower Clapton, Middlesex or Erdington, Birmingham',\n",
       "       'Windsor, England New York, NY', 'Bergen, Norway',\n",
       "       'Sweden Winnipeg, MN', 'Ruotsinphyhtaa, Finland New York, NY',\n",
       "       'Vadsbro, Sweden Ministee, MI', 'Hartford, CT',\n",
       "       'Sweden Chicago, IL', 'Bulgaria Chicago, IL',\n",
       "       'Altdorf, Switzerland', 'Sweden Joliet, IL',\n",
       "       'Sweden  Worcester, MA', 'Sweden Worcester, MA',\n",
       "       'Oskarshamn, Sweden Minneapolis, MN', 'Ottawa, ON',\n",
       "       'Krakoryd, Sweden Bloomington, IL', 'Syria Youngstown, OH',\n",
       "       'Ruotsinphytaa, Finland New York, NY', 'Syria New York, NY',\n",
       "       'London Skanteales, NY', 'Syria Ottawa, ON',\n",
       "       'England New York, NY', 'Krakudden, Sweden Moune, IL',\n",
       "       'Tranvik, Finland New York', 'Syria', 'Hong Kong New York, NY',\n",
       "       'Brennes, Norway New York', 'Stockholm, Sweden New York',\n",
       "       'Syria Kent, ON', 'Ireland Chicago, IL',\n",
       "       'Treherbert, Cardiff, Wales',\n",
       "       'Kingwilliamstown, Co Cork, Ireland Glens Falls, NY',\n",
       "       'Medeltorp, Sweden Chicago, IL', 'Bridgerule, Devon',\n",
       "       'Broomfield, Chelmsford, England', 'Co Cork, Ireland Roxbury, MA',\n",
       "       'Kingwilliamstown, Co Cork, Ireland New York, NY',\n",
       "       'Co Cork, Ireland Charlestown, MA',\n",
       "       'Co Sligo, Ireland New York, NY', 'Croatia',\n",
       "       'Ireland Philadelphia, PA', 'Dagsas, Sweden Fower, MN',\n",
       "       'Goteborg, Sweden Huntley, IL',\n",
       "       'Co Longford, Ireland New York, NY',\n",
       "       'Co Sligo, Ireland Hartford, CT', 'St Denys, Southampton, Hants',\n",
       "       'Ireland New York, NY', 'Greece', 'Portugal',\n",
       "       'London Brooklyn, NY', 'Co Limerick, Ireland Sherbrooke, PQ',\n",
       "       'Ireland Brooklyn, NY', 'Ireland', 'Austria',\n",
       "       'England Brooklyn, NY', 'Merrill, WI',\n",
       "       'Bristol, England Cleveland, OH',\n",
       "       'Bournemouth, England Newark, NJ', 'Austria-Hungary',\n",
       "       'Australia Fingal, ND', 'Norrlot, Sweden Chicago, IL',\n",
       "       'Co Athlone, Ireland New York, NY', 'Stanton, IA',\n",
       "       'West Bromwich, England Pontiac, MI',\n",
       "       'Liverpool, England Bedford, OH', 'Tampico, MT',\n",
       "       'Belgium Detroit, MI', 'Devon, England Wichita, KS',\n",
       "       'Bulgaria Coon Rapids, IA',\n",
       "       'Kilmacowen, Co Sligo, Ireland New York, NY',\n",
       "       'England Oglesby, IL', 'Union Hill, NJ', 'London New York, NY',\n",
       "       'Austria Niagara Falls, NY', 'West Haven, CT',\n",
       "       'Tofta, Sweden Joliet, IL', 'Karberg, Sweden Jerome Junction, AZ',\n",
       "       'Effington Rut, SD', 'Illinois, USA',\n",
       "       'Aughnacliff, Co Longford, Ireland New York, NY',\n",
       "       'Italy Philadelphia, PA',\n",
       "       'Rotherfield, Sussex, England Essex Co, MA',\n",
       "       'Bridgwater, Somerset, England',\n",
       "       'Co Clare, Ireland Washington, DC',\n",
       "       'Strood, Kent, England Detroit, MI',\n",
       "       'Wiltshire, England Niagara Falls, NY', 'Dorking, Surrey, England',\n",
       "       'Foresvik, Norway Portland, ND', 'Waukegan, Chicago, IL',\n",
       "       'Myren, Sweden New York, NY', 'Finland Sudbury, ON',\n",
       "       'Oslo, Norway Cameron, WI', 'Antwerp, Belgium / Stanton, OH'],\n",
       "      dtype=object)"
      ]
     },
     "execution_count": 35,
     "metadata": {},
     "output_type": "execute_result"
    }
   ],
   "source": [
    "df['home.dest'].unique()"
   ]
  },
  {
   "cell_type": "code",
   "execution_count": 36,
   "metadata": {},
   "outputs": [],
   "source": [
    "df['home.dest'].fillna('MISSING',inplace=True)"
   ]
  },
  {
   "cell_type": "code",
   "execution_count": 37,
   "metadata": {},
   "outputs": [
    {
     "data": {
      "text/plain": [
       "array(['St Louis, MO', 'Montreal, PQ / Chesterville, ON', 'New York, NY',\n",
       "       'Hudson, NY', 'Belfast, NI', 'Bayside, Queens, NY',\n",
       "       'Montevideo, Uruguay', 'Paris, France', 'MISSING', 'Hessle, Yorks',\n",
       "       'Montreal, PQ', 'Winnipeg, MN', 'San Francisco, CA',\n",
       "       'Dowagiac, MI', 'Stockholm, Sweden / Washington, DC',\n",
       "       'Trenton, NJ', 'Glen Ridge, NJ', 'Youngstown, OH',\n",
       "       'Birkdale, England Cleveland, Ohio', 'London / Winnipeg, MB',\n",
       "       'Cooperstown, NY', 'St Leonards-on-Sea, England Ohio',\n",
       "       'Los Angeles, CA', 'Pomeroy, WA', 'Omaha, NE', 'Philadelphia, PA',\n",
       "       'Denver, CO', 'Belmont, MA', 'Washington, DC',\n",
       "       'Austria-Hungary / Germantown, Philadelphia, PA',\n",
       "       'Germantown, Philadelphia, PA', 'Bryn Mawr, PA',\n",
       "       'Ascot, Berkshire / Rochester, NY', 'Little Onn Hall, Staffs',\n",
       "       'Amenia, ND', 'New York, NY / Ithaca, NY', 'London, England',\n",
       "       'Liverpool, England / Belfast', 'Stoughton, MA', 'Victoria, BC',\n",
       "       'Lakewood, NJ', 'Roachdale, IN', 'Milwaukee, WI', 'Lima, Peru',\n",
       "       'Calgary, AB', 'Deephaven, MN / Cedar Rapids, IA',\n",
       "       'London / Paris', 'Mt Airy, Philadelphia, PA', 'Brookline, MA',\n",
       "       'Brooklyn, NY', 'Winnipeg, MB', 'Westcliff-on-Sea, Essex',\n",
       "       'Zurich, Switzerland', 'Scituate, MA',\n",
       "       \"St Anne's-on-Sea, Lancashire\", 'Paris, France / New York, NY',\n",
       "       'Greenwich, CT', 'Kingston, Surrey', 'London / Middlesex',\n",
       "       'Brighton, MA', 'London / Birmingham', 'Chicago, IL',\n",
       "       'Indianapolis, IN', 'New York, NY /  Stamford CT',\n",
       "       'Paris, France New York, NY', 'Liverpool', 'Bennington, VT',\n",
       "       'London', 'Buffalo, NY', 'Southington / Noank, CT', 'Boston, MA',\n",
       "       'Portland, OR', 'Stockholm, Sweden', 'Springfield, MA',\n",
       "       'London / New York, NY', 'Brockton, MA', 'Belgium  Montreal, PQ',\n",
       "       'Vancouver, BC', 'Dorchester, MA', 'East Bridgewater, MA',\n",
       "       'Fond du Lac, WI', 'Green Bay, WI', 'Lexington, MA',\n",
       "       'Isle of Wight, England', 'Providence, RI', '?Havana, Cuba',\n",
       "       'Belfast', 'Surbiton Hill, Surrey', 'Isleworth, England',\n",
       "       'Madrid, Spain', 'Toronto, ON', 'Worcester, MA',\n",
       "       'Rotterdam, Netherlands', 'Paris /  New York, NY', 'Seattle, WA',\n",
       "       'London  Vancouver, BC', 'Haverford, PA / Cooperstown, NY',\n",
       "       'Manchester, England', 'New York, NY / Greenwich CT', 'Duluth, MN',\n",
       "       'Basel, Switzerland', 'New Britain, CT',\n",
       "       'St James, Long Island, NY', 'Huntington, WV', 'Streatham, Surrey',\n",
       "       'Minneapolis, MN', 'Tuxedo Park, NY',\n",
       "       'Wimbledon Park, London / Hayling Island, Hants', 'Newark, NJ',\n",
       "       'Haverford, PA', 'Gallipolis, Ohio / ? Paris / New York',\n",
       "       'Cincinatti, OH', 'Haddenfield, NJ', 'London /  East Orange, NJ',\n",
       "       'Albany, NY', 'Mexico City, Mexico', 'East Orange, NJ',\n",
       "       'England Salt Lake City, Utah', 'Brunswick, ME',\n",
       "       'New York, NY / Briarcliff Manor NY', 'Elkins Park, PA',\n",
       "       'Geneva, Switzerland / Radnor, PA', 'Halifax, NS',\n",
       "       'New York, NY / Washington, DC', 'Russia New York, NY',\n",
       "       'Bryn Mawr, PA, USA', 'Buenos Aires, Argentina / New Jersey, NJ',\n",
       "       'Cornwall, England Houghton, MI', 'Warwick, England',\n",
       "       'West Hoboken, NJ', 'Penzance, Cornwall / Akron, OH', 'Guernsey',\n",
       "       'Bristol, Avon / Jacksonville, FL',\n",
       "       'Plymouth, Dorset / Houghton, MI', 'Jacksonville, FL',\n",
       "       'Norwich / New York, NY', 'England',\n",
       "       'Guntur, India / Benton Harbour, MI', 'Rochester, NY',\n",
       "       'St Ives, Cornwall / Calumet, MI', 'Elmira, NY / Orange, NJ',\n",
       "       'Lake Arthur, Chavez County, NM', 'London / Montreal, PQ',\n",
       "       'Cape Town, South Africa / Seattle, WA',\n",
       "       'Skara, Sweden / Rockford, IL',\n",
       "       'Sittingbourne, England / San Diego, CA', 'Southsea, Hants',\n",
       "       'Bangkok, Thailand / Roseville, IL', 'Mamaroneck, NY', 'Bronx, NY',\n",
       "       'Cornwall / Spokane, WA', 'England / San Francisco, CA',\n",
       "       'Hartford, Huntingdonshire', 'Helsinki, Finland Ashtabula, Ohio',\n",
       "       'London / Fort Byron, NY',\n",
       "       'Bishopstoke, Hants / Fayette Valley, ID', 'Pennsylvania',\n",
       "       'Provo, UT', 'Upper Burma, India Pittsburgh, PA',\n",
       "       'St Ives, Cornwall / Hancock, MI', 'Lyndhurst, England',\n",
       "       'London / Staten Island, NY', 'Portugal / Sau Paulo, Brazil',\n",
       "       'Lucca, Italy / California', 'Guernsey / Elizabeth, NJ',\n",
       "       'New Forest, England', 'Southampton', 'Holley, NY',\n",
       "       'Greenport, NY', 'Barcelona, Spain / Havana, Cuba',\n",
       "       'England / Detroit, MI', 'Goteborg, Sweden / Rockford, IL',\n",
       "       'Oslo, Norway Bayonne, NJ', 'England / Philadelphia, PA',\n",
       "       'Cornwall / Houghton, MI', 'Janjgir, India / Pennsylvania',\n",
       "       'Liverpool / Montreal, PQ', 'Cornwall / Clear Creek, CO',\n",
       "       'Cornwall', 'Cornwall / Camden, NJ', 'West Kensington, London',\n",
       "       'Clevedon, England', 'Auburn, NY', 'Detroit, MI',\n",
       "       'Seattle, WA / Toledo, OH', 'Denmark Hill, Surrey / Chicago',\n",
       "       'Walthamstow, England', 'Ilford, Essex / Winnipeg, MB',\n",
       "       'Somerset / Bernardsville, NJ', 'India / Rapid City, SD',\n",
       "       'West Hampstead, London / Neepawa, MB',\n",
       "       'Kontiolahti, Finland / Detroit, MI', 'Cornwall / Akron, OH',\n",
       "       'Devonport, England', 'England / Sacramento, CA', 'Tokyo, Japan',\n",
       "       'Swindon, England', 'North Evington, England',\n",
       "       'St Ives, Cornwall / Houghton, MI', 'Moscow / Bronx, NY',\n",
       "       'India / Pittsburgh, PA', 'Harrisburg, PA', 'Glasgow / Bangor, ME',\n",
       "       'Sweden / Arlington, NJ', 'Paris / Haiti',\n",
       "       'Berne, Switzerland / Central City, IA', 'London / Chicago, IL',\n",
       "       'Weston-Super-Mare, Somerset', 'Southampton / New York, NY',\n",
       "       'Paris', 'Paris / Montreal, PQ', 'St Austall, Cornwall',\n",
       "       'Weston-Super-Mare / Moose Jaw, SK', 'Sydney, Australia',\n",
       "       'Sarnia, ON', 'England / Bennington, VT', 'Chelsea, London',\n",
       "       'Harrow-on-the-Hill, Middlesex', 'Copenhagen, Denmark',\n",
       "       'Guernsey / Montclair, NJ and/or Toledo, Ohio', 'Frankfort, KY',\n",
       "       'Halesworth, England', 'Cambridge, MA', 'Nice, France',\n",
       "       'Cornwall / Hancock, MI', 'Glasgow', 'Cologne, Germany',\n",
       "       'Folkstone, Kent / New York, NY', 'Middleburg Heights, OH',\n",
       "       'Pondersend, England / New Durham, NJ', 'Spain / Havana, Cuba',\n",
       "       'Hamilton, ON', 'St Andrews, Guernsey', 'Woodford County, KY',\n",
       "       'Gunnislake, England / Butte, MT', 'Ilfracombe, Devon',\n",
       "       'Worcester, England', 'Russia', 'Denmark / New York, NY',\n",
       "       'Milford, NH', 'Plymouth, Devon / Detroit, MI', 'Brighton, Sussex',\n",
       "       'Elizabeth, NJ', 'Spain',\n",
       "       'London, England / Marietta, Ohio and Milwaukee, WI',\n",
       "       'Guernsey / Wilmington, DE', 'Hornsey, England', 'Deer Lodge, MT',\n",
       "       'Finland / Minneapolis, MN', 'Finland / Washington, DC',\n",
       "       'Sault St Marie, ON', 'Catford, Kent / Detroit, MI',\n",
       "       'Columbus, OH', 'Bath, England / Massachusetts',\n",
       "       'Plymouth, England', 'Barre, Co Washington, VT',\n",
       "       'Bristol, England / New Britain, CT', 'Aberdeen / Portland, OR',\n",
       "       'England / Hartford, CT', 'Bromsgrove, England / Montreal, PQ',\n",
       "       'Bournmouth, England', 'Guernsey, England / Edgewood, RI',\n",
       "       'Harrow, England', 'Yoevil, England / Cottage Grove, OR',\n",
       "       'East Providence, RI', 'Norway Los Angeles, CA',\n",
       "       'Perkins County, SD', 'Taalintehdas, Finland Hoboken, NJ',\n",
       "       'Greensburg, PA', 'Asarum, Sweden Brooklyn, NY',\n",
       "       'Bournemouth, England', 'Sweden Akeley, MN',\n",
       "       'London, England Norfolk, VA', 'Syria Fredericksburg, VA',\n",
       "       'England Albion, NY', 'Salo, Finland Astoria, OR', 'Argentina',\n",
       "       'Lower Clapton, Middlesex or Erdington, Birmingham',\n",
       "       'Windsor, England New York, NY', 'Bergen, Norway',\n",
       "       'Sweden Winnipeg, MN', 'Ruotsinphyhtaa, Finland New York, NY',\n",
       "       'Vadsbro, Sweden Ministee, MI', 'Hartford, CT',\n",
       "       'Sweden Chicago, IL', 'Bulgaria Chicago, IL',\n",
       "       'Altdorf, Switzerland', 'Sweden Joliet, IL',\n",
       "       'Sweden  Worcester, MA', 'Sweden Worcester, MA',\n",
       "       'Oskarshamn, Sweden Minneapolis, MN', 'Ottawa, ON',\n",
       "       'Krakoryd, Sweden Bloomington, IL', 'Syria Youngstown, OH',\n",
       "       'Ruotsinphytaa, Finland New York, NY', 'Syria New York, NY',\n",
       "       'London Skanteales, NY', 'Syria Ottawa, ON',\n",
       "       'England New York, NY', 'Krakudden, Sweden Moune, IL',\n",
       "       'Tranvik, Finland New York', 'Syria', 'Hong Kong New York, NY',\n",
       "       'Brennes, Norway New York', 'Stockholm, Sweden New York',\n",
       "       'Syria Kent, ON', 'Ireland Chicago, IL',\n",
       "       'Treherbert, Cardiff, Wales',\n",
       "       'Kingwilliamstown, Co Cork, Ireland Glens Falls, NY',\n",
       "       'Medeltorp, Sweden Chicago, IL', 'Bridgerule, Devon',\n",
       "       'Broomfield, Chelmsford, England', 'Co Cork, Ireland Roxbury, MA',\n",
       "       'Kingwilliamstown, Co Cork, Ireland New York, NY',\n",
       "       'Co Cork, Ireland Charlestown, MA',\n",
       "       'Co Sligo, Ireland New York, NY', 'Croatia',\n",
       "       'Ireland Philadelphia, PA', 'Dagsas, Sweden Fower, MN',\n",
       "       'Goteborg, Sweden Huntley, IL',\n",
       "       'Co Longford, Ireland New York, NY',\n",
       "       'Co Sligo, Ireland Hartford, CT', 'St Denys, Southampton, Hants',\n",
       "       'Ireland New York, NY', 'Greece', 'Portugal',\n",
       "       'London Brooklyn, NY', 'Co Limerick, Ireland Sherbrooke, PQ',\n",
       "       'Ireland Brooklyn, NY', 'Ireland', 'Austria',\n",
       "       'England Brooklyn, NY', 'Merrill, WI',\n",
       "       'Bristol, England Cleveland, OH',\n",
       "       'Bournemouth, England Newark, NJ', 'Austria-Hungary',\n",
       "       'Australia Fingal, ND', 'Norrlot, Sweden Chicago, IL',\n",
       "       'Co Athlone, Ireland New York, NY', 'Stanton, IA',\n",
       "       'West Bromwich, England Pontiac, MI',\n",
       "       'Liverpool, England Bedford, OH', 'Tampico, MT',\n",
       "       'Belgium Detroit, MI', 'Devon, England Wichita, KS',\n",
       "       'Bulgaria Coon Rapids, IA',\n",
       "       'Kilmacowen, Co Sligo, Ireland New York, NY',\n",
       "       'England Oglesby, IL', 'Union Hill, NJ', 'London New York, NY',\n",
       "       'Austria Niagara Falls, NY', 'West Haven, CT',\n",
       "       'Tofta, Sweden Joliet, IL', 'Karberg, Sweden Jerome Junction, AZ',\n",
       "       'Effington Rut, SD', 'Illinois, USA',\n",
       "       'Aughnacliff, Co Longford, Ireland New York, NY',\n",
       "       'Italy Philadelphia, PA',\n",
       "       'Rotherfield, Sussex, England Essex Co, MA',\n",
       "       'Bridgwater, Somerset, England',\n",
       "       'Co Clare, Ireland Washington, DC',\n",
       "       'Strood, Kent, England Detroit, MI',\n",
       "       'Wiltshire, England Niagara Falls, NY', 'Dorking, Surrey, England',\n",
       "       'Foresvik, Norway Portland, ND', 'Waukegan, Chicago, IL',\n",
       "       'Myren, Sweden New York, NY', 'Finland Sudbury, ON',\n",
       "       'Oslo, Norway Cameron, WI', 'Antwerp, Belgium / Stanton, OH'],\n",
       "      dtype=object)"
      ]
     },
     "execution_count": 37,
     "metadata": {},
     "output_type": "execute_result"
    }
   ],
   "source": [
    "df['home.dest'].unique()"
   ]
  },
  {
   "cell_type": "code",
   "execution_count": 38,
   "metadata": {},
   "outputs": [
    {
     "data": {
      "text/plain": [
       "pclass       0\n",
       "survived     0\n",
       "name         0\n",
       "sex          0\n",
       "age          0\n",
       "sibsp        0\n",
       "parch        0\n",
       "ticket       0\n",
       "fare         0\n",
       "cabin        0\n",
       "embarked     0\n",
       "boat         0\n",
       "body         0\n",
       "home.dest    0\n",
       "dtype: int64"
      ]
     },
     "execution_count": 38,
     "metadata": {},
     "output_type": "execute_result"
    }
   ],
   "source": [
    "df.isnull().sum()"
   ]
  },
  {
   "cell_type": "code",
   "execution_count": 39,
   "metadata": {},
   "outputs": [
    {
     "data": {
      "text/plain": [
       "pclass         int64\n",
       "survived       int64\n",
       "name          object\n",
       "sex           object\n",
       "age          float64\n",
       "sibsp          int64\n",
       "parch          int64\n",
       "ticket        object\n",
       "fare         float64\n",
       "cabin         object\n",
       "embarked      object\n",
       "boat          object\n",
       "body         float64\n",
       "home.dest     object\n",
       "dtype: object"
      ]
     },
     "execution_count": 39,
     "metadata": {},
     "output_type": "execute_result"
    }
   ],
   "source": [
    "df.dtypes"
   ]
  },
  {
   "cell_type": "code",
   "execution_count": 41,
   "metadata": {},
   "outputs": [
    {
     "data": {
      "text/plain": [
       "<matplotlib.axes._subplots.AxesSubplot at 0x837a2ccfc8>"
      ]
     },
     "execution_count": 41,
     "metadata": {},
     "output_type": "execute_result"
    },
    {
     "data": {
      "image/png": "[encoded data removed]",
      "text/plain": [
       "<Figure size 432x288 with 1 Axes>"
      ]
     },
     "metadata": {
      "needs_background": "light"
     },
     "output_type": "display_data"
    }
   ],
   "source": [
    "sns.distplot(df['age'])"
   ]
  },
  {
   "cell_type": "code",
   "execution_count": 42,
   "metadata": {},
   "outputs": [
    {
     "data": {
      "text/plain": [
       "<matplotlib.axes._subplots.AxesSubplot at 0x837a367148>"
      ]
     },
     "execution_count": 42,
     "metadata": {},
     "output_type": "execute_result"
    },
    {
     "data": {
      "image/png": "[encoded data removed]",
      "text/plain": [
       "<Figure size 432x288 with 1 Axes>"
      ]
     },
     "metadata": {
      "needs_background": "light"
     },
     "output_type": "display_data"
    }
   ],
   "source": [
    "sns.countplot(x='embarked',data=df)"
   ]
  },
  {
   "cell_type": "code",
   "execution_count": 43,
   "metadata": {},
   "outputs": [
    {
     "data": {
      "text/plain": [
       "<matplotlib.axes._subplots.AxesSubplot at 0x837a40db48>"
      ]
     },
     "execution_count": 43,
     "metadata": {},
     "output_type": "execute_result"
    },
    {
     "data": {
      "image/png": "[encoded data removed]",
      "text/plain": [
       "<Figure size 432x288 with 1 Axes>"
      ]
     },
     "metadata": {
      "needs_background": "light"
     },
     "output_type": "display_data"
    }
   ],
   "source": [
    "sns.countplot(x='pclass',data=df)"
   ]
  },
  {
   "cell_type": "code",
   "execution_count": 44,
   "metadata": {},
   "outputs": [
    {
     "data": {
      "text/plain": [
       "<matplotlib.axes._subplots.AxesSubplot at 0x837a469b88>"
      ]
     },
     "execution_count": 44,
     "metadata": {},
     "output_type": "execute_result"
    },
    {
     "data": {
      "image/png": "[encoded data removed]",
      "text/plain": [
       "<Figure size 432x288 with 1 Axes>"
      ]
     },
     "metadata": {
      "needs_background": "light"
     },
     "output_type": "display_data"
    }
   ],
   "source": [
    "sns.barplot(x='embarked',y='survived',data=df)"
   ]
  },
  {
   "cell_type": "code",
   "execution_count": 45,
   "metadata": {},
   "outputs": [
    {
     "data": {
      "text/plain": [
       "<matplotlib.axes._subplots.AxesSubplot at 0x837a4d42c8>"
      ]
     },
     "execution_count": 45,
     "metadata": {},
     "output_type": "execute_result"
    },
    {
     "data": {
      "image/png": "[encoded data removed]",
      "text/plain": [
       "<Figure size 432x288 with 1 Axes>"
      ]
     },
     "metadata": {
      "needs_background": "light"
     },
     "output_type": "display_data"
    }
   ],
   "source": [
    "sns.barplot(x='pclass',y='survived',data=df)"
   ]
  },
  {
   "cell_type": "code",
   "execution_count": 48,
   "metadata": {},
   "outputs": [
    {
     "data": {
      "text/plain": [
       "<matplotlib.axes._subplots.AxesSubplot at 0x837a615a08>"
      ]
     },
     "execution_count": 48,
     "metadata": {},
     "output_type": "execute_result"
    },
    {
     "data": {
      "image/png": "[encoded data removed]",
      "text/plain": [
       "<Figure size 432x288 with 1 Axes>"
      ]
     },
     "metadata": {
      "needs_background": "light"
     },
     "output_type": "display_data"
    }
   ],
   "source": [
    "sns.countplot(x='sex',data=df)"
   ]
  },
  {
   "cell_type": "code",
   "execution_count": 50,
   "metadata": {},
   "outputs": [
    {
     "data": {
      "text/plain": [
       "<matplotlib.axes._subplots.AxesSubplot at 0x837a632e88>"
      ]
     },
     "execution_count": 50,
     "metadata": {},
     "output_type": "execute_result"
    },
    {
     "data": {
      "image/png": "[encoded data removed]",
      "text/plain": [
       "<Figure size 432x288 with 1 Axes>"
      ]
     },
     "metadata": {
      "needs_background": "light"
     },
     "output_type": "display_data"
    }
   ],
   "source": [
    "sns.barplot(x='sex',y='survived',data=df)"
   ]
  },
  {
   "cell_type": "code",
   "execution_count": 51,
   "metadata": {},
   "outputs": [
    {
     "data": {
      "text/plain": [
       "<matplotlib.axes._subplots.AxesSubplot at 0x837a65e748>"
      ]
     },
     "execution_count": 51,
     "metadata": {},
     "output_type": "execute_result"
    },
    {
     "data": {
      "image/png": "[encoded data removed]",
      "text/plain": [
       "<Figure size 432x288 with 1 Axes>"
      ]
     },
     "metadata": {
      "needs_background": "light"
     },
     "output_type": "display_data"
    }
   ],
   "source": [
    "sns.countplot(x='embarked',data=df)"
   ]
  },
  {
   "cell_type": "code",
   "execution_count": 52,
   "metadata": {},
   "outputs": [
    {
     "data": {
      "text/plain": [
       "pclass       0\n",
       "survived     0\n",
       "name         0\n",
       "sex          0\n",
       "age          0\n",
       "sibsp        0\n",
       "parch        0\n",
       "ticket       0\n",
       "fare         0\n",
       "cabin        0\n",
       "embarked     0\n",
       "boat         0\n",
       "body         0\n",
       "home.dest    0\n",
       "dtype: int64"
      ]
     },
     "execution_count": 52,
     "metadata": {},
     "output_type": "execute_result"
    }
   ],
   "source": [
    "df.isnull().sum()"
   ]
  },
  {
   "cell_type": "code",
   "execution_count": 53,
   "metadata": {},
   "outputs": [
    {
     "data": {
      "text/plain": [
       "pclass         int64\n",
       "survived       int64\n",
       "name          object\n",
       "sex           object\n",
       "age          float64\n",
       "sibsp          int64\n",
       "parch          int64\n",
       "ticket        object\n",
       "fare         float64\n",
       "cabin         object\n",
       "embarked      object\n",
       "boat          object\n",
       "body         float64\n",
       "home.dest     object\n",
       "dtype: object"
      ]
     },
     "execution_count": 53,
     "metadata": {},
     "output_type": "execute_result"
    }
   ],
   "source": [
    "df.dtypes"
   ]
  },
  {
   "cell_type": "code",
   "execution_count": 54,
   "metadata": {},
   "outputs": [],
   "source": [
    "df=pd.get_dummies(df,columns=['sex','embarked'],drop_first=True)"
   ]
  },
  {
   "cell_type": "code",
   "execution_count": 55,
   "metadata": {},
   "outputs": [
    {
     "data": {
      "text/html": [
       "<div>\n",
       "<style scoped>\n",
       "    .dataframe tbody tr th:only-of-type {\n",
       "        vertical-align: middle;\n",
       "    }\n",
       "\n",
       "    .dataframe tbody tr th {\n",
       "        vertical-align: top;\n",
       "    }\n",
       "\n",
       "    .dataframe thead th {\n",
       "        text-align: right;\n",
       "    }\n",
       "</style>\n",
       "<table border=\"1\" class=\"dataframe\">\n",
       "  <thead>\n",
       "    <tr style=\"text-align: right;\">\n",
       "      <th></th>\n",
       "      <th>pclass</th>\n",
       "      <th>survived</th>\n",
       "      <th>name</th>\n",
       "      <th>age</th>\n",
       "      <th>sibsp</th>\n",
       "      <th>parch</th>\n",
       "      <th>ticket</th>\n",
       "      <th>fare</th>\n",
       "      <th>cabin</th>\n",
       "      <th>boat</th>\n",
       "      <th>body</th>\n",
       "      <th>home.dest</th>\n",
       "      <th>sex_male</th>\n",
       "      <th>embarked_Q</th>\n",
       "      <th>embarked_S</th>\n",
       "    </tr>\n",
       "  </thead>\n",
       "  <tbody>\n",
       "    <tr>\n",
       "      <td>0</td>\n",
       "      <td>1</td>\n",
       "      <td>1</td>\n",
       "      <td>Allen, Miss. Elisabeth Walton</td>\n",
       "      <td>29.0000</td>\n",
       "      <td>0</td>\n",
       "      <td>0</td>\n",
       "      <td>24160</td>\n",
       "      <td>211.3375</td>\n",
       "      <td>B5</td>\n",
       "      <td>2</td>\n",
       "      <td>160.809917</td>\n",
       "      <td>St Louis, MO</td>\n",
       "      <td>0</td>\n",
       "      <td>0</td>\n",
       "      <td>1</td>\n",
       "    </tr>\n",
       "    <tr>\n",
       "      <td>1</td>\n",
       "      <td>1</td>\n",
       "      <td>1</td>\n",
       "      <td>Allison, Master. Hudson Trevor</td>\n",
       "      <td>0.9167</td>\n",
       "      <td>1</td>\n",
       "      <td>2</td>\n",
       "      <td>113781</td>\n",
       "      <td>151.5500</td>\n",
       "      <td>C22 C26</td>\n",
       "      <td>11</td>\n",
       "      <td>160.809917</td>\n",
       "      <td>Montreal, PQ / Chesterville, ON</td>\n",
       "      <td>1</td>\n",
       "      <td>0</td>\n",
       "      <td>1</td>\n",
       "    </tr>\n",
       "    <tr>\n",
       "      <td>2</td>\n",
       "      <td>1</td>\n",
       "      <td>0</td>\n",
       "      <td>Allison, Miss. Helen Loraine</td>\n",
       "      <td>2.0000</td>\n",
       "      <td>1</td>\n",
       "      <td>2</td>\n",
       "      <td>113781</td>\n",
       "      <td>151.5500</td>\n",
       "      <td>C22 C26</td>\n",
       "      <td>M</td>\n",
       "      <td>160.809917</td>\n",
       "      <td>Montreal, PQ / Chesterville, ON</td>\n",
       "      <td>0</td>\n",
       "      <td>0</td>\n",
       "      <td>1</td>\n",
       "    </tr>\n",
       "    <tr>\n",
       "      <td>3</td>\n",
       "      <td>1</td>\n",
       "      <td>0</td>\n",
       "      <td>Allison, Mr. Hudson Joshua Creighton</td>\n",
       "      <td>30.0000</td>\n",
       "      <td>1</td>\n",
       "      <td>2</td>\n",
       "      <td>113781</td>\n",
       "      <td>151.5500</td>\n",
       "      <td>C22 C26</td>\n",
       "      <td>M</td>\n",
       "      <td>135.000000</td>\n",
       "      <td>Montreal, PQ / Chesterville, ON</td>\n",
       "      <td>1</td>\n",
       "      <td>0</td>\n",
       "      <td>1</td>\n",
       "    </tr>\n",
       "    <tr>\n",
       "      <td>4</td>\n",
       "      <td>1</td>\n",
       "      <td>0</td>\n",
       "      <td>Allison, Mrs. Hudson J C (Bessie Waldo Daniels)</td>\n",
       "      <td>25.0000</td>\n",
       "      <td>1</td>\n",
       "      <td>2</td>\n",
       "      <td>113781</td>\n",
       "      <td>151.5500</td>\n",
       "      <td>C22 C26</td>\n",
       "      <td>M</td>\n",
       "      <td>160.809917</td>\n",
       "      <td>Montreal, PQ / Chesterville, ON</td>\n",
       "      <td>0</td>\n",
       "      <td>0</td>\n",
       "      <td>1</td>\n",
       "    </tr>\n",
       "  </tbody>\n",
       "</table>\n",
       "</div>"
      ],
      "text/plain": [
       "   pclass  survived                                             name      age  \\\n",
       "0       1         1                    Allen, Miss. Elisabeth Walton  29.0000   \n",
       "1       1         1                   Allison, Master. Hudson Trevor   0.9167   \n",
       "2       1         0                     Allison, Miss. Helen Loraine   2.0000   \n",
       "3       1         0             Allison, Mr. Hudson Joshua Creighton  30.0000   \n",
       "4       1         0  Allison, Mrs. Hudson J C (Bessie Waldo Daniels)  25.0000   \n",
       "\n",
       "   sibsp  parch  ticket      fare    cabin boat        body  \\\n",
       "0      0      0   24160  211.3375       B5    2  160.809917   \n",
       "1      1      2  113781  151.5500  C22 C26   11  160.809917   \n",
       "2      1      2  113781  151.5500  C22 C26    M  160.809917   \n",
       "3      1      2  113781  151.5500  C22 C26    M  135.000000   \n",
       "4      1      2  113781  151.5500  C22 C26    M  160.809917   \n",
       "\n",
       "                         home.dest  sex_male  embarked_Q  embarked_S  \n",
       "0                     St Louis, MO         0           0           1  \n",
       "1  Montreal, PQ / Chesterville, ON         1           0           1  \n",
       "2  Montreal, PQ / Chesterville, ON         0           0           1  \n",
       "3  Montreal, PQ / Chesterville, ON         1           0           1  \n",
       "4  Montreal, PQ / Chesterville, ON         0           0           1  "
      ]
     },
     "execution_count": 55,
     "metadata": {},
     "output_type": "execute_result"
    }
   ],
   "source": [
    "df.head()"
   ]
  },
  {
   "cell_type": "code",
   "execution_count": 56,
   "metadata": {},
   "outputs": [],
   "source": [
    "df=df.drop(['name','ticket','boat','body','home.dest','cabin'],axis=1)"
   ]
  },
  {
   "cell_type": "code",
   "execution_count": 57,
   "metadata": {},
   "outputs": [
    {
     "data": {
      "text/html": [
       "<div>\n",
       "<style scoped>\n",
       "    .dataframe tbody tr th:only-of-type {\n",
       "        vertical-align: middle;\n",
       "    }\n",
       "\n",
       "    .dataframe tbody tr th {\n",
       "        vertical-align: top;\n",
       "    }\n",
       "\n",
       "    .dataframe thead th {\n",
       "        text-align: right;\n",
       "    }\n",
       "</style>\n",
       "<table border=\"1\" class=\"dataframe\">\n",
       "  <thead>\n",
       "    <tr style=\"text-align: right;\">\n",
       "      <th></th>\n",
       "      <th>pclass</th>\n",
       "      <th>survived</th>\n",
       "      <th>age</th>\n",
       "      <th>sibsp</th>\n",
       "      <th>parch</th>\n",
       "      <th>fare</th>\n",
       "      <th>sex_male</th>\n",
       "      <th>embarked_Q</th>\n",
       "      <th>embarked_S</th>\n",
       "    </tr>\n",
       "  </thead>\n",
       "  <tbody>\n",
       "    <tr>\n",
       "      <td>0</td>\n",
       "      <td>1</td>\n",
       "      <td>1</td>\n",
       "      <td>29.0000</td>\n",
       "      <td>0</td>\n",
       "      <td>0</td>\n",
       "      <td>211.3375</td>\n",
       "      <td>0</td>\n",
       "      <td>0</td>\n",
       "      <td>1</td>\n",
       "    </tr>\n",
       "    <tr>\n",
       "      <td>1</td>\n",
       "      <td>1</td>\n",
       "      <td>1</td>\n",
       "      <td>0.9167</td>\n",
       "      <td>1</td>\n",
       "      <td>2</td>\n",
       "      <td>151.5500</td>\n",
       "      <td>1</td>\n",
       "      <td>0</td>\n",
       "      <td>1</td>\n",
       "    </tr>\n",
       "    <tr>\n",
       "      <td>2</td>\n",
       "      <td>1</td>\n",
       "      <td>0</td>\n",
       "      <td>2.0000</td>\n",
       "      <td>1</td>\n",
       "      <td>2</td>\n",
       "      <td>151.5500</td>\n",
       "      <td>0</td>\n",
       "      <td>0</td>\n",
       "      <td>1</td>\n",
       "    </tr>\n",
       "    <tr>\n",
       "      <td>3</td>\n",
       "      <td>1</td>\n",
       "      <td>0</td>\n",
       "      <td>30.0000</td>\n",
       "      <td>1</td>\n",
       "      <td>2</td>\n",
       "      <td>151.5500</td>\n",
       "      <td>1</td>\n",
       "      <td>0</td>\n",
       "      <td>1</td>\n",
       "    </tr>\n",
       "    <tr>\n",
       "      <td>4</td>\n",
       "      <td>1</td>\n",
       "      <td>0</td>\n",
       "      <td>25.0000</td>\n",
       "      <td>1</td>\n",
       "      <td>2</td>\n",
       "      <td>151.5500</td>\n",
       "      <td>0</td>\n",
       "      <td>0</td>\n",
       "      <td>1</td>\n",
       "    </tr>\n",
       "  </tbody>\n",
       "</table>\n",
       "</div>"
      ],
      "text/plain": [
       "   pclass  survived      age  sibsp  parch      fare  sex_male  embarked_Q  \\\n",
       "0       1         1  29.0000      0      0  211.3375         0           0   \n",
       "1       1         1   0.9167      1      2  151.5500         1           0   \n",
       "2       1         0   2.0000      1      2  151.5500         0           0   \n",
       "3       1         0  30.0000      1      2  151.5500         1           0   \n",
       "4       1         0  25.0000      1      2  151.5500         0           0   \n",
       "\n",
       "   embarked_S  \n",
       "0           1  \n",
       "1           1  \n",
       "2           1  \n",
       "3           1  \n",
       "4           1  "
      ]
     },
     "execution_count": 57,
     "metadata": {},
     "output_type": "execute_result"
    }
   ],
   "source": [
    "df.head()"
   ]
  },
  {
   "cell_type": "code",
   "execution_count": 58,
   "metadata": {},
   "outputs": [
    {
     "data": {
      "text/plain": [
       "pclass        0\n",
       "survived      0\n",
       "age           0\n",
       "sibsp         0\n",
       "parch         0\n",
       "fare          0\n",
       "sex_male      0\n",
       "embarked_Q    0\n",
       "embarked_S    0\n",
       "dtype: int64"
      ]
     },
     "execution_count": 58,
     "metadata": {},
     "output_type": "execute_result"
    }
   ],
   "source": [
    "df.isnull().sum()"
   ]
  },
  {
   "cell_type": "code",
   "execution_count": 59,
   "metadata": {},
   "outputs": [
    {
     "data": {
      "text/plain": [
       "pclass          int64\n",
       "survived        int64\n",
       "age           float64\n",
       "sibsp           int64\n",
       "parch           int64\n",
       "fare          float64\n",
       "sex_male        uint8\n",
       "embarked_Q      uint8\n",
       "embarked_S      uint8\n",
       "dtype: object"
      ]
     },
     "execution_count": 59,
     "metadata": {},
     "output_type": "execute_result"
    }
   ],
   "source": [
    "df.dtypes"
   ]
  },
  {
   "cell_type": "code",
   "execution_count": 64,
   "metadata": {},
   "outputs": [
    {
     "data": {
      "text/plain": [
       "10.673469387755102"
      ]
     },
     "execution_count": 64,
     "metadata": {},
     "output_type": "execute_result"
    }
   ],
   "source": [
    "df['age'].value_counts().mean()"
   ]
  },
  {
   "cell_type": "code",
   "execution_count": 65,
   "metadata": {},
   "outputs": [
    {
     "data": {
      "text/plain": [
       "29.8811345124283"
      ]
     },
     "execution_count": 65,
     "metadata": {},
     "output_type": "execute_result"
    }
   ],
   "source": [
    "df['age'].mean()"
   ]
  },
  {
   "cell_type": "code",
   "execution_count": 66,
   "metadata": {},
   "outputs": [
    {
     "data": {
      "text/plain": [
       "436.3333333333333"
      ]
     },
     "execution_count": 66,
     "metadata": {},
     "output_type": "execute_result"
    }
   ],
   "source": [
    "df['pclass'].value_counts().mean()"
   ]
  },
  {
   "cell_type": "code",
   "execution_count": 67,
   "metadata": {},
   "outputs": [
    {
     "data": {
      "text/plain": [
       "3    709\n",
       "1    323\n",
       "2    277\n",
       "Name: pclass, dtype: int64"
      ]
     },
     "execution_count": 67,
     "metadata": {},
     "output_type": "execute_result"
    }
   ],
   "source": [
    "df['pclass'].value_counts()"
   ]
  },
  {
   "cell_type": "code",
   "execution_count": 68,
   "metadata": {},
   "outputs": [],
   "source": [
    "import statsmodels.api as sm"
   ]
  },
  {
   "cell_type": "code",
   "execution_count": 71,
   "metadata": {},
   "outputs": [],
   "source": [
    "y=df['survived']\n",
    "X=df.drop(['survived'],axis=1)\n",
    "X['intercept']=1"
   ]
  },
  {
   "cell_type": "code",
   "execution_count": 72,
   "metadata": {},
   "outputs": [
    {
     "ename": "ValueError",
     "evalue": "Pandas data cast to numpy dtype of object. Check input data with np.asarray(data).",
     "output_type": "error",
     "traceback": [
      "\u001b[1;31m---------------------------------------------------------------------------\u001b[0m",
      "\u001b[1;31mValueError\u001b[0m                                Traceback (most recent call last)",
      "\u001b[1;32m<ipython-input-72-bdb52b40a964>\u001b[0m in \u001b[0;36m<module>\u001b[1;34m\u001b[0m\n\u001b[1;32m----> 1\u001b[1;33m \u001b[0mmodel\u001b[0m \u001b[1;33m=\u001b[0m \u001b[0msm\u001b[0m\u001b[1;33m.\u001b[0m\u001b[0mLogit\u001b[0m\u001b[1;33m(\u001b[0m\u001b[0my\u001b[0m\u001b[1;33m,\u001b[0m\u001b[0mX\u001b[0m\u001b[1;33m)\u001b[0m\u001b[1;33m.\u001b[0m\u001b[0mfit\u001b[0m\u001b[1;33m(\u001b[0m\u001b[1;33m)\u001b[0m\u001b[1;33m\u001b[0m\u001b[1;33m\u001b[0m\u001b[0m\n\u001b[0m",
      "\u001b[1;32m~\\Anaconda3\\lib\\site-packages\\statsmodels\\discrete\\discrete_model.py\u001b[0m in \u001b[0;36m__init__\u001b[1;34m(self, endog, exog, **kwargs)\u001b[0m\n\u001b[0;32m    427\u001b[0m \u001b[1;33m\u001b[0m\u001b[0m\n\u001b[0;32m    428\u001b[0m     \u001b[1;32mdef\u001b[0m \u001b[0m__init__\u001b[0m\u001b[1;33m(\u001b[0m\u001b[0mself\u001b[0m\u001b[1;33m,\u001b[0m \u001b[0mendog\u001b[0m\u001b[1;33m,\u001b[0m \u001b[0mexog\u001b[0m\u001b[1;33m,\u001b[0m \u001b[1;33m**\u001b[0m\u001b[0mkwargs\u001b[0m\u001b[1;33m)\u001b[0m\u001b[1;33m:\u001b[0m\u001b[1;33m\u001b[0m\u001b[1;33m\u001b[0m\u001b[0m\n\u001b[1;32m--> 429\u001b[1;33m         \u001b[0msuper\u001b[0m\u001b[1;33m(\u001b[0m\u001b[0mBinaryModel\u001b[0m\u001b[1;33m,\u001b[0m \u001b[0mself\u001b[0m\u001b[1;33m)\u001b[0m\u001b[1;33m.\u001b[0m\u001b[0m__init__\u001b[0m\u001b[1;33m(\u001b[0m\u001b[0mendog\u001b[0m\u001b[1;33m,\u001b[0m \u001b[0mexog\u001b[0m\u001b[1;33m,\u001b[0m \u001b[1;33m**\u001b[0m\u001b[0mkwargs\u001b[0m\u001b[1;33m)\u001b[0m\u001b[1;33m\u001b[0m\u001b[1;33m\u001b[0m\u001b[0m\n\u001b[0m\u001b[0;32m    430\u001b[0m         if (not issubclass(self.__class__, MultinomialModel) and\n\u001b[0;32m    431\u001b[0m                 not np.all((self.endog >= 0) & (self.endog <= 1))):\n",
      "\u001b[1;32m~\\Anaconda3\\lib\\site-packages\\statsmodels\\discrete\\discrete_model.py\u001b[0m in \u001b[0;36m__init__\u001b[1;34m(self, endog, exog, **kwargs)\u001b[0m\n\u001b[0;32m    166\u001b[0m     \"\"\"\n\u001b[0;32m    167\u001b[0m     \u001b[1;32mdef\u001b[0m \u001b[0m__init__\u001b[0m\u001b[1;33m(\u001b[0m\u001b[0mself\u001b[0m\u001b[1;33m,\u001b[0m \u001b[0mendog\u001b[0m\u001b[1;33m,\u001b[0m \u001b[0mexog\u001b[0m\u001b[1;33m,\u001b[0m \u001b[1;33m**\u001b[0m\u001b[0mkwargs\u001b[0m\u001b[1;33m)\u001b[0m\u001b[1;33m:\u001b[0m\u001b[1;33m\u001b[0m\u001b[1;33m\u001b[0m\u001b[0m\n\u001b[1;32m--> 168\u001b[1;33m         \u001b[0msuper\u001b[0m\u001b[1;33m(\u001b[0m\u001b[0mDiscreteModel\u001b[0m\u001b[1;33m,\u001b[0m \u001b[0mself\u001b[0m\u001b[1;33m)\u001b[0m\u001b[1;33m.\u001b[0m\u001b[0m__init__\u001b[0m\u001b[1;33m(\u001b[0m\u001b[0mendog\u001b[0m\u001b[1;33m,\u001b[0m \u001b[0mexog\u001b[0m\u001b[1;33m,\u001b[0m \u001b[1;33m**\u001b[0m\u001b[0mkwargs\u001b[0m\u001b[1;33m)\u001b[0m\u001b[1;33m\u001b[0m\u001b[1;33m\u001b[0m\u001b[0m\n\u001b[0m\u001b[0;32m    169\u001b[0m         \u001b[0mself\u001b[0m\u001b[1;33m.\u001b[0m\u001b[0mraise_on_perfect_prediction\u001b[0m \u001b[1;33m=\u001b[0m \u001b[1;32mTrue\u001b[0m\u001b[1;33m\u001b[0m\u001b[1;33m\u001b[0m\u001b[0m\n\u001b[0;32m    170\u001b[0m \u001b[1;33m\u001b[0m\u001b[0m\n",
      "\u001b[1;32m~\\Anaconda3\\lib\\site-packages\\statsmodels\\base\\model.py\u001b[0m in \u001b[0;36m__init__\u001b[1;34m(self, endog, exog, **kwargs)\u001b[0m\n\u001b[0;32m    214\u001b[0m \u001b[1;33m\u001b[0m\u001b[0m\n\u001b[0;32m    215\u001b[0m     \u001b[1;32mdef\u001b[0m \u001b[0m__init__\u001b[0m\u001b[1;33m(\u001b[0m\u001b[0mself\u001b[0m\u001b[1;33m,\u001b[0m \u001b[0mendog\u001b[0m\u001b[1;33m,\u001b[0m \u001b[0mexog\u001b[0m\u001b[1;33m=\u001b[0m\u001b[1;32mNone\u001b[0m\u001b[1;33m,\u001b[0m \u001b[1;33m**\u001b[0m\u001b[0mkwargs\u001b[0m\u001b[1;33m)\u001b[0m\u001b[1;33m:\u001b[0m\u001b[1;33m\u001b[0m\u001b[1;33m\u001b[0m\u001b[0m\n\u001b[1;32m--> 216\u001b[1;33m         \u001b[0msuper\u001b[0m\u001b[1;33m(\u001b[0m\u001b[0mLikelihoodModel\u001b[0m\u001b[1;33m,\u001b[0m \u001b[0mself\u001b[0m\u001b[1;33m)\u001b[0m\u001b[1;33m.\u001b[0m\u001b[0m__init__\u001b[0m\u001b[1;33m(\u001b[0m\u001b[0mendog\u001b[0m\u001b[1;33m,\u001b[0m \u001b[0mexog\u001b[0m\u001b[1;33m,\u001b[0m \u001b[1;33m**\u001b[0m\u001b[0mkwargs\u001b[0m\u001b[1;33m)\u001b[0m\u001b[1;33m\u001b[0m\u001b[1;33m\u001b[0m\u001b[0m\n\u001b[0m\u001b[0;32m    217\u001b[0m         \u001b[0mself\u001b[0m\u001b[1;33m.\u001b[0m\u001b[0minitialize\u001b[0m\u001b[1;33m(\u001b[0m\u001b[1;33m)\u001b[0m\u001b[1;33m\u001b[0m\u001b[1;33m\u001b[0m\u001b[0m\n\u001b[0;32m    218\u001b[0m \u001b[1;33m\u001b[0m\u001b[0m\n",
      "\u001b[1;32m~\\Anaconda3\\lib\\site-packages\\statsmodels\\base\\model.py\u001b[0m in \u001b[0;36m__init__\u001b[1;34m(self, endog, exog, **kwargs)\u001b[0m\n\u001b[0;32m     66\u001b[0m         \u001b[0mhasconst\u001b[0m \u001b[1;33m=\u001b[0m \u001b[0mkwargs\u001b[0m\u001b[1;33m.\u001b[0m\u001b[0mpop\u001b[0m\u001b[1;33m(\u001b[0m\u001b[1;34m'hasconst'\u001b[0m\u001b[1;33m,\u001b[0m \u001b[1;32mNone\u001b[0m\u001b[1;33m)\u001b[0m\u001b[1;33m\u001b[0m\u001b[1;33m\u001b[0m\u001b[0m\n\u001b[0;32m     67\u001b[0m         self.data = self._handle_data(endog, exog, missing, hasconst,\n\u001b[1;32m---> 68\u001b[1;33m                                       **kwargs)\n\u001b[0m\u001b[0;32m     69\u001b[0m         \u001b[0mself\u001b[0m\u001b[1;33m.\u001b[0m\u001b[0mk_constant\u001b[0m \u001b[1;33m=\u001b[0m \u001b[0mself\u001b[0m\u001b[1;33m.\u001b[0m\u001b[0mdata\u001b[0m\u001b[1;33m.\u001b[0m\u001b[0mk_constant\u001b[0m\u001b[1;33m\u001b[0m\u001b[1;33m\u001b[0m\u001b[0m\n\u001b[0;32m     70\u001b[0m         \u001b[0mself\u001b[0m\u001b[1;33m.\u001b[0m\u001b[0mexog\u001b[0m \u001b[1;33m=\u001b[0m \u001b[0mself\u001b[0m\u001b[1;33m.\u001b[0m\u001b[0mdata\u001b[0m\u001b[1;33m.\u001b[0m\u001b[0mexog\u001b[0m\u001b[1;33m\u001b[0m\u001b[1;33m\u001b[0m\u001b[0m\n",
      "\u001b[1;32m~\\Anaconda3\\lib\\site-packages\\statsmodels\\base\\model.py\u001b[0m in \u001b[0;36m_handle_data\u001b[1;34m(self, endog, exog, missing, hasconst, **kwargs)\u001b[0m\n\u001b[0;32m     89\u001b[0m \u001b[1;33m\u001b[0m\u001b[0m\n\u001b[0;32m     90\u001b[0m     \u001b[1;32mdef\u001b[0m \u001b[0m_handle_data\u001b[0m\u001b[1;33m(\u001b[0m\u001b[0mself\u001b[0m\u001b[1;33m,\u001b[0m \u001b[0mendog\u001b[0m\u001b[1;33m,\u001b[0m \u001b[0mexog\u001b[0m\u001b[1;33m,\u001b[0m \u001b[0mmissing\u001b[0m\u001b[1;33m,\u001b[0m \u001b[0mhasconst\u001b[0m\u001b[1;33m,\u001b[0m \u001b[1;33m**\u001b[0m\u001b[0mkwargs\u001b[0m\u001b[1;33m)\u001b[0m\u001b[1;33m:\u001b[0m\u001b[1;33m\u001b[0m\u001b[1;33m\u001b[0m\u001b[0m\n\u001b[1;32m---> 91\u001b[1;33m         \u001b[0mdata\u001b[0m \u001b[1;33m=\u001b[0m \u001b[0mhandle_data\u001b[0m\u001b[1;33m(\u001b[0m\u001b[0mendog\u001b[0m\u001b[1;33m,\u001b[0m \u001b[0mexog\u001b[0m\u001b[1;33m,\u001b[0m \u001b[0mmissing\u001b[0m\u001b[1;33m,\u001b[0m \u001b[0mhasconst\u001b[0m\u001b[1;33m,\u001b[0m \u001b[1;33m**\u001b[0m\u001b[0mkwargs\u001b[0m\u001b[1;33m)\u001b[0m\u001b[1;33m\u001b[0m\u001b[1;33m\u001b[0m\u001b[0m\n\u001b[0m\u001b[0;32m     92\u001b[0m         \u001b[1;31m# kwargs arrays could have changed, easier to just attach here\u001b[0m\u001b[1;33m\u001b[0m\u001b[1;33m\u001b[0m\u001b[1;33m\u001b[0m\u001b[0m\n\u001b[0;32m     93\u001b[0m         \u001b[1;32mfor\u001b[0m \u001b[0mkey\u001b[0m \u001b[1;32min\u001b[0m \u001b[0mkwargs\u001b[0m\u001b[1;33m:\u001b[0m\u001b[1;33m\u001b[0m\u001b[1;33m\u001b[0m\u001b[0m\n",
      "\u001b[1;32m~\\Anaconda3\\lib\\site-packages\\statsmodels\\base\\data.py\u001b[0m in \u001b[0;36mhandle_data\u001b[1;34m(endog, exog, missing, hasconst, **kwargs)\u001b[0m\n\u001b[0;32m    633\u001b[0m     \u001b[0mklass\u001b[0m \u001b[1;33m=\u001b[0m \u001b[0mhandle_data_class_factory\u001b[0m\u001b[1;33m(\u001b[0m\u001b[0mendog\u001b[0m\u001b[1;33m,\u001b[0m \u001b[0mexog\u001b[0m\u001b[1;33m)\u001b[0m\u001b[1;33m\u001b[0m\u001b[1;33m\u001b[0m\u001b[0m\n\u001b[0;32m    634\u001b[0m     return klass(endog, exog=exog, missing=missing, hasconst=hasconst,\n\u001b[1;32m--> 635\u001b[1;33m                  **kwargs)\n\u001b[0m",
      "\u001b[1;32m~\\Anaconda3\\lib\\site-packages\\statsmodels\\base\\data.py\u001b[0m in \u001b[0;36m__init__\u001b[1;34m(self, endog, exog, missing, hasconst, **kwargs)\u001b[0m\n\u001b[0;32m     74\u001b[0m             \u001b[0mself\u001b[0m\u001b[1;33m.\u001b[0m\u001b[0morig_endog\u001b[0m \u001b[1;33m=\u001b[0m \u001b[0mendog\u001b[0m\u001b[1;33m\u001b[0m\u001b[1;33m\u001b[0m\u001b[0m\n\u001b[0;32m     75\u001b[0m             \u001b[0mself\u001b[0m\u001b[1;33m.\u001b[0m\u001b[0morig_exog\u001b[0m \u001b[1;33m=\u001b[0m \u001b[0mexog\u001b[0m\u001b[1;33m\u001b[0m\u001b[1;33m\u001b[0m\u001b[0m\n\u001b[1;32m---> 76\u001b[1;33m             \u001b[0mself\u001b[0m\u001b[1;33m.\u001b[0m\u001b[0mendog\u001b[0m\u001b[1;33m,\u001b[0m \u001b[0mself\u001b[0m\u001b[1;33m.\u001b[0m\u001b[0mexog\u001b[0m \u001b[1;33m=\u001b[0m \u001b[0mself\u001b[0m\u001b[1;33m.\u001b[0m\u001b[0m_convert_endog_exog\u001b[0m\u001b[1;33m(\u001b[0m\u001b[0mendog\u001b[0m\u001b[1;33m,\u001b[0m \u001b[0mexog\u001b[0m\u001b[1;33m)\u001b[0m\u001b[1;33m\u001b[0m\u001b[1;33m\u001b[0m\u001b[0m\n\u001b[0m\u001b[0;32m     77\u001b[0m \u001b[1;33m\u001b[0m\u001b[0m\n\u001b[0;32m     78\u001b[0m         \u001b[0mself\u001b[0m\u001b[1;33m.\u001b[0m\u001b[0mconst_idx\u001b[0m \u001b[1;33m=\u001b[0m \u001b[1;32mNone\u001b[0m\u001b[1;33m\u001b[0m\u001b[1;33m\u001b[0m\u001b[0m\n",
      "\u001b[1;32m~\\Anaconda3\\lib\\site-packages\\statsmodels\\base\\data.py\u001b[0m in \u001b[0;36m_convert_endog_exog\u001b[1;34m(self, endog, exog)\u001b[0m\n\u001b[0;32m    473\u001b[0m         \u001b[0mexog\u001b[0m \u001b[1;33m=\u001b[0m \u001b[0mexog\u001b[0m \u001b[1;32mif\u001b[0m \u001b[0mexog\u001b[0m \u001b[1;32mis\u001b[0m \u001b[1;32mNone\u001b[0m \u001b[1;32melse\u001b[0m \u001b[0mnp\u001b[0m\u001b[1;33m.\u001b[0m\u001b[0masarray\u001b[0m\u001b[1;33m(\u001b[0m\u001b[0mexog\u001b[0m\u001b[1;33m)\u001b[0m\u001b[1;33m\u001b[0m\u001b[1;33m\u001b[0m\u001b[0m\n\u001b[0;32m    474\u001b[0m         \u001b[1;32mif\u001b[0m \u001b[0mendog\u001b[0m\u001b[1;33m.\u001b[0m\u001b[0mdtype\u001b[0m \u001b[1;33m==\u001b[0m \u001b[0mobject\u001b[0m \u001b[1;32mor\u001b[0m \u001b[0mexog\u001b[0m \u001b[1;32mis\u001b[0m \u001b[1;32mnot\u001b[0m \u001b[1;32mNone\u001b[0m \u001b[1;32mand\u001b[0m \u001b[0mexog\u001b[0m\u001b[1;33m.\u001b[0m\u001b[0mdtype\u001b[0m \u001b[1;33m==\u001b[0m \u001b[0mobject\u001b[0m\u001b[1;33m:\u001b[0m\u001b[1;33m\u001b[0m\u001b[1;33m\u001b[0m\u001b[0m\n\u001b[1;32m--> 475\u001b[1;33m             raise ValueError(\"Pandas data cast to numpy dtype of object. \"\n\u001b[0m\u001b[0;32m    476\u001b[0m                              \"Check input data with np.asarray(data).\")\n\u001b[0;32m    477\u001b[0m         \u001b[1;32mreturn\u001b[0m \u001b[0msuper\u001b[0m\u001b[1;33m(\u001b[0m\u001b[0mPandasData\u001b[0m\u001b[1;33m,\u001b[0m \u001b[0mself\u001b[0m\u001b[1;33m)\u001b[0m\u001b[1;33m.\u001b[0m\u001b[0m_convert_endog_exog\u001b[0m\u001b[1;33m(\u001b[0m\u001b[0mendog\u001b[0m\u001b[1;33m,\u001b[0m \u001b[0mexog\u001b[0m\u001b[1;33m)\u001b[0m\u001b[1;33m\u001b[0m\u001b[1;33m\u001b[0m\u001b[0m\n",
      "\u001b[1;31mValueError\u001b[0m: Pandas data cast to numpy dtype of object. Check input data with np.asarray(data)."
     ]
    }
   ],
   "source": [
    "model = sm.Logit(y,X).fit()"
   ]
  },
  {
   "cell_type": "code",
   "execution_count": 73,
   "metadata": {},
   "outputs": [
    {
     "data": {
      "text/plain": [
       "pclass         int64\n",
       "survived       int64\n",
       "name          object\n",
       "sex           object\n",
       "age          float64\n",
       "sibsp          int64\n",
       "parch          int64\n",
       "ticket        object\n",
       "fare         float64\n",
       "cabin         object\n",
       "embarked      object\n",
       "boat          object\n",
       "body         float64\n",
       "home.dest     object\n",
       "dtype: object"
      ]
     },
     "execution_count": 73,
     "metadata": {},
     "output_type": "execute_result"
    }
   ],
   "source": [
    "df.dtypes"
   ]
  },
  {
   "cell_type": "code",
   "execution_count": 74,
   "metadata": {},
   "outputs": [
    {
     "data": {
      "text/plain": [
       "pclass          0\n",
       "survived        0\n",
       "name            0\n",
       "sex             0\n",
       "age           263\n",
       "sibsp           0\n",
       "parch           0\n",
       "ticket          0\n",
       "fare            1\n",
       "cabin        1014\n",
       "embarked        2\n",
       "boat          823\n",
       "body         1188\n",
       "home.dest     564\n",
       "dtype: int64"
      ]
     },
     "execution_count": 74,
     "metadata": {},
     "output_type": "execute_result"
    }
   ],
   "source": [
    "df.isnull().sum()"
   ]
  },
  {
   "cell_type": "code",
   "execution_count": 75,
   "metadata": {},
   "outputs": [],
   "source": [
    "df['age'].fillna(df['age'].value_counts().mean(),inplace=True)"
   ]
  },
  {
   "cell_type": "code",
   "execution_count": null,
   "metadata": {},
   "outputs": [],
   "source": []
  }
 ],
 "metadata": {
  "kernelspec": {
   "display_name": "Python 3",
   "language": "python",
   "name": "python3"
  },
  "language_info": {
   "codemirror_mode": {
    "name": "ipython",
    "version": 3
   },
   "file_extension": ".py",
   "mimetype": "text/x-python",
   "name": "python",
   "nbconvert_exporter": "python",
   "pygments_lexer": "ipython3",
   "version": "3.7.4"
  }
 },
 "nbformat": 4,
 "nbformat_minor": 2
}
